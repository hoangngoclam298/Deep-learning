{
  "cells": [
    {
      "cell_type": "code",
      "execution_count": 2,
      "metadata": {
        "colab": {
          "base_uri": "https://localhost:8080/"
        },
        "id": "n2aIBXktniq7",
        "outputId": "110f3fdf-18e9-41e2-97d0-7a48ad4b09b6"
      },
      "outputs": [
        {
          "output_type": "stream",
          "name": "stdout",
          "text": [
            "Looking in indexes: https://pypi.org/simple, https://us-python.pkg.dev/colab-wheels/public/simple/\n",
            "Requirement already satisfied: pyvi in /usr/local/lib/python3.7/dist-packages (0.1.1)\n",
            "Requirement already satisfied: scikit-learn in /usr/local/lib/python3.7/dist-packages (from pyvi) (1.0.2)\n",
            "Requirement already satisfied: sklearn-crfsuite in /usr/local/lib/python3.7/dist-packages (from pyvi) (0.3.6)\n",
            "Requirement already satisfied: threadpoolctl>=2.0.0 in /usr/local/lib/python3.7/dist-packages (from scikit-learn->pyvi) (3.1.0)\n",
            "Requirement already satisfied: scipy>=1.1.0 in /usr/local/lib/python3.7/dist-packages (from scikit-learn->pyvi) (1.4.1)\n",
            "Requirement already satisfied: numpy>=1.14.6 in /usr/local/lib/python3.7/dist-packages (from scikit-learn->pyvi) (1.21.6)\n",
            "Requirement already satisfied: joblib>=0.11 in /usr/local/lib/python3.7/dist-packages (from scikit-learn->pyvi) (1.1.0)\n",
            "Requirement already satisfied: tabulate in /usr/local/lib/python3.7/dist-packages (from sklearn-crfsuite->pyvi) (0.8.9)\n",
            "Requirement already satisfied: six in /usr/local/lib/python3.7/dist-packages (from sklearn-crfsuite->pyvi) (1.15.0)\n",
            "Requirement already satisfied: python-crfsuite>=0.8.3 in /usr/local/lib/python3.7/dist-packages (from sklearn-crfsuite->pyvi) (0.9.8)\n",
            "Requirement already satisfied: tqdm>=2.0 in /usr/local/lib/python3.7/dist-packages (from sklearn-crfsuite->pyvi) (4.64.0)\n"
          ]
        }
      ],
      "source": [
        "!pip install pyvi\n",
        "import numpy as np\n",
        "import tensorflow as tf\n",
        "import pickle\n",
        "import matplotlib.pyplot as plt\n",
        "from sklearn.model_selection import train_test_split\n",
        "import tensorflow.keras.layers\n",
        "from tensorflow.keras.layers import Embedding, Dense, Dropout, Bidirectional, LSTM, GRU, Input, GlobalMaxPooling1D, LayerNormalization, Conv1D, MaxPooling1D\n",
        "from tensorflow.keras.optimizers import Adam, SGD\n",
        "from tensorflow.keras import Sequential\n",
        "from tensorflow.keras.models import load_model\n",
        "from tensorflow.keras.preprocessing.text import Tokenizer\n",
        "from tensorflow.keras.preprocessing.sequence import pad_sequences\n",
        "from pyvi import ViTokenizer\n",
        "from pyvi import ViUtils"
      ]
    },
    {
      "cell_type": "code",
      "execution_count": 31,
      "metadata": {
        "colab": {
          "base_uri": "https://localhost:8080/"
        },
        "id": "PupqbUvlfAlF",
        "outputId": "2bbe21af-6d79-4a61-a5d1-64829aca3c7f"
      },
      "outputs": [
        {
          "output_type": "stream",
          "name": "stdout",
          "text": [
            "254928\n"
          ]
        }
      ],
      "source": [
        "from os import terminal_size\n",
        "import regex as re\n",
        "import pandas as pd\n",
        "\n",
        "datafile = pd.read_csv('/content/drive/MyDrive/Colab Notebooks/Data/train_ok.csv',header=None)\n",
        "\n",
        "data = pd.DataFrame({'label':datafile[0], 'text':datafile[1]})\n",
        "data = data.dropna()\n",
        "data = data.reset_index(drop=True)\n",
        "print(len(data))\n",
        "\n",
        "with open ('/content/drive/MyDrive/Colab Notebooks/Data/teencode.txt') as tcfile:\n",
        "  teencodefile = tcfile.read()\n",
        "\n",
        "teencodedata = teencodefile.split('\\n')\n",
        "teencode = {}\n",
        "for x in range(0,len(teencodedata)):\n",
        "  tmp = teencodedata[x].split('\\t')\n",
        "  teencode[tmp[0]] = tmp[1]"
      ]
    },
    {
      "cell_type": "code",
      "source": [
        "uniChars = \"àáảãạâầấẩẫậăằắẳẵặèéẻẽẹêềếểễệđìíỉĩịòóỏõọôồốổỗộơờớởỡợùúủũụưừứửữựỳýỷỹỵÀÁẢÃẠÂẦẤẨẪẬĂẰẮẲẴẶÈÉẺẼẸÊỀẾỂỄỆĐÌÍỈĨỊÒÓỎÕỌÔỒỐỔỖỘƠỜỚỞỠỢÙÚỦŨỤƯỪỨỬỮỰỲÝỶỸỴÂĂĐÔƠƯ\"\n",
        "unsignChars = \"aaaaaaaaaaaaaaaaaeeeeeeeeeeediiiiiooooooooooooooooouuuuuuuuuuuyyyyyAAAAAAAAAAAAAAAAAEEEEEEEEEEEDIIIOOOOOOOOOOOOOOOOOOOUUUUUUUUUUUYYYYYAADOOU\"\n",
        " \n",
        "def loaddicchar():\n",
        "    dic = {}\n",
        "    char1252 = 'à|á|ả|ã|ạ|ầ|ấ|ẩ|ẫ|ậ|ằ|ắ|ẳ|ẵ|ặ|è|é|ẻ|ẽ|ẹ|ề|ế|ể|ễ|ệ|ì|í|ỉ|ĩ|ị|ò|ó|ỏ|õ|ọ|ồ|ố|ổ|ỗ|ộ|ờ|ớ|ở|ỡ|ợ|ù|ú|ủ|ũ|ụ|ừ|ứ|ử|ữ|ự|ỳ|ý|ỷ|ỹ|ỵ|À|Á|Ả|Ã|Ạ|Ầ|Ấ|Ẩ|Ẫ|Ậ|Ằ|Ắ|Ẳ|Ẵ|Ặ|È|É|Ẻ|Ẽ|Ẹ|Ề|Ế|Ể|Ễ|Ệ|Ì|Í|Ỉ|Ĩ|Ị|Ò|Ó|Ỏ|Õ|Ọ|Ồ|Ố|Ổ|Ỗ|Ộ|Ờ|Ớ|Ở|Ỡ|Ợ|Ù|Ú|Ủ|Ũ|Ụ|Ừ|Ứ|Ử|Ữ|Ự|Ỳ|Ý|Ỷ|Ỹ|Ỵ'.split(\n",
        "        '|')\n",
        "    charutf8 = \"à|á|ả|ã|ạ|ầ|ấ|ẩ|ẫ|ậ|ằ|ắ|ẳ|ẵ|ặ|è|é|ẻ|ẽ|ẹ|ề|ế|ể|ễ|ệ|ì|í|ỉ|ĩ|ị|ò|ó|ỏ|õ|ọ|ồ|ố|ổ|ỗ|ộ|ờ|ớ|ở|ỡ|ợ|ù|ú|ủ|ũ|ụ|ừ|ứ|ử|ữ|ự|ỳ|ý|ỷ|ỹ|ỵ|À|Á|Ả|Ã|Ạ|Ầ|Ấ|Ẩ|Ẫ|Ậ|Ằ|Ắ|Ẳ|Ẵ|Ặ|È|É|Ẻ|Ẽ|Ẹ|Ề|Ế|Ể|Ễ|Ệ|Ì|Í|Ỉ|Ĩ|Ị|Ò|Ó|Ỏ|Õ|Ọ|Ồ|Ố|Ổ|Ỗ|Ộ|Ờ|Ớ|Ở|Ỡ|Ợ|Ù|Ú|Ủ|Ũ|Ụ|Ừ|Ứ|Ử|Ữ|Ự|Ỳ|Ý|Ỷ|Ỹ|Ỵ\".split(\n",
        "        '|')\n",
        "    for i in range(len(char1252)):\n",
        "        dic[char1252[i]] = charutf8[i]\n",
        "    return dic\n",
        "dicchar = loaddicchar()\n",
        "\n",
        "# Hàm chuyển Unicode dựng sẵn về Unicde tổ hợp (phổ biến hơn)\n",
        "def convert_unicode(txt):\n",
        "    return re.sub(\n",
        "        r'à|á|ả|ã|ạ|ầ|ấ|ẩ|ẫ|ậ|ằ|ắ|ẳ|ẵ|ặ|è|é|ẻ|ẽ|ẹ|ề|ế|ể|ễ|ệ|ì|í|ỉ|ĩ|ị|ò|ó|ỏ|õ|ọ|ồ|ố|ổ|ỗ|ộ|ờ|ớ|ở|ỡ|ợ|ù|ú|ủ|ũ|ụ|ừ|ứ|ử|ữ|ự|ỳ|ý|ỷ|ỹ|ỵ|À|Á|Ả|Ã|Ạ|Ầ|Ấ|Ẩ|Ẫ|Ậ|Ằ|Ắ|Ẳ|Ẵ|Ặ|È|É|Ẻ|Ẽ|Ẹ|Ề|Ế|Ể|Ễ|Ệ|Ì|Í|Ỉ|Ĩ|Ị|Ò|Ó|Ỏ|Õ|Ọ|Ồ|Ố|Ổ|Ỗ|Ộ|Ờ|Ớ|Ở|Ỡ|Ợ|Ù|Ú|Ủ|Ũ|Ụ|Ừ|Ứ|Ử|Ữ|Ự|Ỳ|Ý|Ỷ|Ỹ|Ỵ',\n",
        "        lambda x: dicchar[x.group()], txt)\n",
        "\n",
        "bang_nguyen_am = [['a', 'à', 'á', 'ả', 'ã', 'ạ', 'a'],\n",
        "                  ['ă', 'ằ', 'ắ', 'ẳ', 'ẵ', 'ặ', 'aw'],\n",
        "                  ['â', 'ầ', 'ấ', 'ẩ', 'ẫ', 'ậ', 'aa'],\n",
        "                  ['e', 'è', 'é', 'ẻ', 'ẽ', 'ẹ', 'e'],\n",
        "                  ['ê', 'ề', 'ế', 'ể', 'ễ', 'ệ', 'ee'],\n",
        "                  ['i', 'ì', 'í', 'ỉ', 'ĩ', 'ị', 'i'],\n",
        "                  ['o', 'ò', 'ó', 'ỏ', 'õ', 'ọ', 'o'],\n",
        "                  ['ô', 'ồ', 'ố', 'ổ', 'ỗ', 'ộ', 'oo'],\n",
        "                  ['ơ', 'ờ', 'ớ', 'ở', 'ỡ', 'ợ', 'ow'],\n",
        "                  ['u', 'ù', 'ú', 'ủ', 'ũ', 'ụ', 'u'],\n",
        "                  ['ư', 'ừ', 'ứ', 'ử', 'ữ', 'ự', 'uw'],\n",
        "                  ['y', 'ỳ', 'ý', 'ỷ', 'ỹ', 'ỵ', 'y']]\n",
        "bang_ky_tu_dau = ['', 'f', 's', 'r', 'x', 'j']\n",
        "\n",
        "nguyen_am_to_ids = {}\n",
        "\n",
        "for i in range(len(bang_nguyen_am)):\n",
        "    for j in range(len(bang_nguyen_am[i]) - 1):\n",
        "        nguyen_am_to_ids[bang_nguyen_am[i][j]] = (i, j)\n",
        "\n",
        "def chuan_hoa_dau_tu_tieng_viet(word):\n",
        "    if not is_valid_vietnam_word(word):\n",
        "        return word\n",
        "    chars = list(word)\n",
        "    while(len(chars)>1):\n",
        "      if(chars[-1] == chars[-2]):\n",
        "        del chars[-1]\n",
        "      else:\n",
        "        break\n",
        "    dau_cau = 0\n",
        "    nguyen_am_index = []\n",
        "    qu_or_gi = False\n",
        "    for index, char in enumerate(chars):\n",
        "        x, y = nguyen_am_to_ids.get(char, (-1, -1))\n",
        "        if x == -1:\n",
        "            continue\n",
        "        elif x == 9:  # check qu\n",
        "            if index != 0 and chars[index - 1] == 'q':\n",
        "                chars[index] = 'u'\n",
        "                qu_or_gi = True\n",
        "        elif x == 5:  # check gi\n",
        "            if index != 0 and chars[index - 1] == 'g':\n",
        "                chars[index] = 'i'\n",
        "                qu_or_gi = True\n",
        "        if y != 0:\n",
        "            dau_cau = y\n",
        "            chars[index] = bang_nguyen_am[x][0]\n",
        "        if not qu_or_gi or index != 1:\n",
        "            nguyen_am_index.append(index)\n",
        "    if len(nguyen_am_index) < 2:\n",
        "        if qu_or_gi:\n",
        "            if len(chars) == 2:\n",
        "                x, y = nguyen_am_to_ids.get(chars[1])\n",
        "                chars[1] = bang_nguyen_am[x][dau_cau]\n",
        "            else:\n",
        "                x, y = nguyen_am_to_ids.get(chars[2], (-1, -1))\n",
        "                if x != -1:\n",
        "                    chars[2] = bang_nguyen_am[x][dau_cau]\n",
        "                else:\n",
        "                    chars[1] = bang_nguyen_am[5][dau_cau] if chars[1] == 'i' else bang_nguyen_am[9][dau_cau]\n",
        "            return ''.join(chars)\n",
        "        return word\n",
        "\n",
        "    for index in nguyen_am_index:\n",
        "        x, y = nguyen_am_to_ids[chars[index]]\n",
        "        if x == 4 or x == 8:  # ê, ơ\n",
        "            chars[index] = bang_nguyen_am[x][dau_cau]\n",
        "            # for index2 in nguyen_am_index:\n",
        "            #     if index2 != index:\n",
        "            #         x, y = nguyen_am_to_ids[chars[index]]\n",
        "            #         chars[index2] = bang_nguyen_am[x][0]\n",
        "            return ''.join(chars)\n",
        "\n",
        "    if len(nguyen_am_index) == 2:\n",
        "        if nguyen_am_index[-1] == len(chars) - 1:\n",
        "            x, y = nguyen_am_to_ids[chars[nguyen_am_index[0]]]\n",
        "            chars[nguyen_am_index[0]] = bang_nguyen_am[x][dau_cau]\n",
        "            # x, y = nguyen_am_to_ids[chars[nguyen_am_index[1]]]\n",
        "            # chars[nguyen_am_index[1]] = bang_nguyen_am[x][0]\n",
        "        else:\n",
        "            # x, y = nguyen_am_to_ids[chars[nguyen_am_index[0]]]\n",
        "            # chars[nguyen_am_index[0]] = bang_nguyen_am[x][0]\n",
        "            x, y = nguyen_am_to_ids[chars[nguyen_am_index[1]]]\n",
        "            chars[nguyen_am_index[1]] = bang_nguyen_am[x][dau_cau]\n",
        "    else:\n",
        "        # x, y = nguyen_am_to_ids[chars[nguyen_am_index[0]]]\n",
        "        # chars[nguyen_am_index[0]] = bang_nguyen_am[x][0]\n",
        "        x, y = nguyen_am_to_ids[chars[nguyen_am_index[1]]]\n",
        "        chars[nguyen_am_index[1]] = bang_nguyen_am[x][dau_cau]\n",
        "        # x, y = nguyen_am_to_ids[chars[nguyen_am_index[2]]]\n",
        "        # chars[nguyen_am_index[2]] = bang_nguyen_am[x][0]\n",
        "    return ''.join(chars)\n",
        "\n",
        "\n",
        "def is_valid_vietnam_word(word):\n",
        "    chars = list(word)\n",
        "    nguyen_am_index = -1\n",
        "    for index, char in enumerate(chars):\n",
        "        x, y = nguyen_am_to_ids.get(char, (-1, -1))\n",
        "        if x != -1:\n",
        "            if nguyen_am_index == -1:\n",
        "                nguyen_am_index = index\n",
        "            else:\n",
        "                if index - nguyen_am_index != 1:\n",
        "                    return False\n",
        "                nguyen_am_index = index\n",
        "    return True\n",
        "\n",
        "\n",
        "def chuan_hoa_dau_cau_tieng_viet(sentence):\n",
        "    sentence = sentence.lower()\n",
        "    words = sentence.split()\n",
        "    for index, word in enumerate(words):\n",
        "        cw = re.sub(r'(^\\p{P}*)([p{L}.]*\\p{L}+)(\\p{P}*$)', r'\\1/\\2/\\3', word).split('/')\n",
        "        # print(cw)\n",
        "        if len(cw) == 3:\n",
        "            cw[1] = chuan_hoa_dau_tu_tieng_viet(cw[1])\n",
        "        words[index] = ''.join(cw)\n",
        "    return ' '.join(words)\n",
        "\n",
        "def remove_html(txt):\n",
        "    return re.sub(r'<[^>]*>', '', txt)\n",
        "\n",
        "def text_preprocess(document):\n",
        "    # xóa html code\n",
        "    document = remove_html(document)\n",
        "    # chuẩn hóa unicode\n",
        "    document = convert_unicode(document)\n",
        "    # chuẩn hóa cách gõ dấu tiếng Việt\n",
        "    document = chuan_hoa_dau_cau_tieng_viet(document)\n",
        "    # đưa về lower\n",
        "    document = document.lower()\n",
        "    # xóa các ký tự không cần thiết\n",
        "    document = re.sub(r'[^\\s\\wáàảãạăắằẳẵặâấầẩẫậéèẻẽẹêếềểễệóòỏõọôốồổỗộơớờởỡợíìỉĩịúùủũụưứừửữựýỳỷỹỵđ_]',' ',document)\n",
        "    # xóa khoảng trắng thừa\n",
        "    document = re.sub(r'\\s+', ' ', document).strip()\n",
        "    # teencode\n",
        "    listtext = document.split()\n",
        "    for x in range(0,len(listtext)):\n",
        "      for y in teencode:\n",
        "        if(listtext[x]==y): listtext[x]=teencode[y]\n",
        "    document = ' '.join(listtext)\n",
        "    return document"
      ],
      "metadata": {
        "id": "q5IF7tSPqJiU"
      },
      "execution_count": 32,
      "outputs": []
    },
    {
      "cell_type": "code",
      "source": [
        "rated_comment = {'1sao':1, '1 sao':1, '1*':1, '1 *':1, 'mot sao':1, 'một sao':1, 'môt sao':1,\n",
        "                 '2sao':2, '2 sao':2, '2*':2, '2 *':2, 'hai sao':2,\n",
        "                 '3sao':3, '3 sao':3, '3*':3, '3 *':3, 'ba sao':3,\n",
        "                 '4sao':4, '4 sao':4, '4*':4, '4 *':4, 'bon sao':4, 'bốn sao':4, 'bôn sao':4,\n",
        "                 '5sao':5, '5 sao':5, '5*':5, '5 *':5, 'nam sao':5, 'năm sao':5,}\n",
        "\n",
        "def check_comment_rated(comment):\n",
        "  if(comment.find('*')==-1 and comment.find('sao')==-1):\n",
        "    return -1\n",
        "  rating = -1\n",
        "  for tmp_rate in rated_comment:\n",
        "    place_find = comment.find(tmp_rate)\n",
        "    if(place_find!=-1):\n",
        "      if(rating == -1):\n",
        "        rating = rated_comment[tmp_rate]\n",
        "      elif(rating != rated_comment[tmp_rate]):\n",
        "        return -1\n",
        "  return rating"
      ],
      "metadata": {
        "id": "eIDutqT2jtxs"
      },
      "execution_count": 33,
      "outputs": []
    },
    {
      "cell_type": "code",
      "execution_count": 35,
      "metadata": {
        "id": "3fgHceZQyD2I"
      },
      "outputs": [],
      "source": [
        "text_pre = []\n",
        "label_pre = []\n",
        "text = data['text'].values\n",
        "label = data['label'].values\n",
        "\n",
        "for x in range(0,len(text)):\n",
        "  input_text = list(tf.keras.preprocessing.text.text_to_word_sequence(text[x]))\n",
        "  input_text = ' '.join(input_text)\n",
        "  #input_text_no_accent = str(ViUtils.remove_accents(input_text).decode(\"utf-8\"))\n",
        "  input_text_pre = ViTokenizer.tokenize(input_text)\n",
        "  #input_text_pre_no_accent = ViTokenizer.tokenize(input_text_no_accent)\n",
        "  text_pre.append(input_text_pre)\n",
        "  label_pre.append(label[x])\n",
        "  #text_pre.append(input_text_pre_no_accent)\n",
        "  #label_pre.append(label[x])"
      ]
    },
    {
      "cell_type": "code",
      "source": [
        "size_label = {1.0:0, 2.0:0, 3.0:0, 4.0:0, 5.0:0}\n",
        "\n",
        "for x in range(0, len(label_pre)):\n",
        "  size_label[label_pre[x]] +=1\n",
        "\n",
        "print(size_label)"
      ],
      "metadata": {
        "id": "1YY25lYb7Y-0",
        "colab": {
          "base_uri": "https://localhost:8080/"
        },
        "outputId": "1ab56bfb-4019-42d8-a223-72b6d7338d14"
      },
      "execution_count": 36,
      "outputs": [
        {
          "output_type": "stream",
          "name": "stdout",
          "text": [
            "{1.0: 28294, 2.0: 14730, 3.0: 27454, 4.0: 56900, 5.0: 127550}\n"
          ]
        }
      ]
    },
    {
      "cell_type": "code",
      "execution_count": 37,
      "metadata": {
        "id": "KYNwyNjwY5bM",
        "colab": {
          "base_uri": "https://localhost:8080/"
        },
        "outputId": "ced980fa-4b45-457a-c054-59f1b6ebcb16"
      },
      "outputs": [
        {
          "output_type": "stream",
          "name": "stdout",
          "text": [
            "input data.shape:  (254928, 128)\n",
            "data vocab size:  55172\n",
            "training sample:  230071\n",
            "validation sample:  12747\n",
            "test sample:  12110\n"
          ]
        }
      ],
      "source": [
        "label_dict={1.0:0, 2.0:1, 3.0:2, 4.0:3, 5.0:4}\n",
        "label_index = [label_dict[i] for i in label_pre]\n",
        "label_tf = tf.keras.utils.to_categorical(label_index, num_classes = 5, dtype = 'float32')\n",
        "maxlen=128\n",
        "\n",
        "tokenizer_data = Tokenizer(oov_token = '<OOV>', filters = '', split = ' ')\n",
        "tokenizer_data.fit_on_texts(text_pre)\n",
        "\n",
        "tokenized_data_text = tokenizer_data.texts_to_sequences(text_pre)\n",
        "vec_data = pad_sequences(tokenized_data_text, padding = 'post', maxlen = maxlen)\n",
        "\n",
        "pickle.dump(tokenized_data_text, open(\"tokenizer_data.pkl\",\"wb\"))\n",
        "\n",
        "print(\"input data.shape: \", vec_data.shape)\n",
        "data_vocab_size = len(tokenizer_data.word_index)+1\n",
        "print(\"data vocab size: \", data_vocab_size)\n",
        "\n",
        "X_train, X_val, y_train, y_val = train_test_split(vec_data, label_tf, test_size=0.05, random_state=42)\n",
        "X_train, X_test, y_train, y_test = train_test_split(X_train, y_train, test_size=0.05, random_state=42)\n",
        "\n",
        "print(\"training sample: \", len(X_train))\n",
        "print(\"validation sample: \", len(X_val))\n",
        "print(\"test sample: \", len(X_test))"
      ]
    },
    {
      "cell_type": "code",
      "execution_count": 86,
      "metadata": {
        "id": "ZisRCbMeeXp_",
        "colab": {
          "base_uri": "https://localhost:8080/"
        },
        "outputId": "f934fcac-cfdd-4808-b17e-dd58a8e89163"
      },
      "outputs": [
        {
          "output_type": "stream",
          "name": "stdout",
          "text": [
            "Model: \"model_25\"\n",
            "__________________________________________________________________________________________________\n",
            " Layer (type)                   Output Shape         Param #     Connected to                     \n",
            "==================================================================================================\n",
            " input_26 (InputLayer)          [(None, 128)]        0           []                               \n",
            "                                                                                                  \n",
            " embedding_25 (Embedding)       (None, 128, 64)      3531008     ['input_26[0][0]']               \n",
            "                                                                                                  \n",
            " conv1d_50 (Conv1D)             (None, 128, 32)      6176        ['embedding_25[0][0]']           \n",
            "                                                                                                  \n",
            " max_pooling1d_100 (MaxPooling1  (None, 64, 32)      0           ['conv1d_50[0][0]']              \n",
            " D)                                                                                               \n",
            "                                                                                                  \n",
            " dropout_92 (Dropout)           (None, 64, 32)       0           ['max_pooling1d_100[0][0]']      \n",
            "                                                                                                  \n",
            " bidirectional_50 (Bidirectiona  (None, 128, 64)     24832       ['embedding_25[0][0]']           \n",
            " l)                                                                                               \n",
            "                                                                                                  \n",
            " conv1d_51 (Conv1D)             (None, 64, 32)       3104        ['dropout_92[0][0]']             \n",
            "                                                                                                  \n",
            " max_pooling1d_102 (MaxPooling1  (None, 64, 64)      0           ['bidirectional_50[0][0]']       \n",
            " D)                                                                                               \n",
            "                                                                                                  \n",
            " max_pooling1d_101 (MaxPooling1  (None, 32, 32)      0           ['conv1d_51[0][0]']              \n",
            " D)                                                                                               \n",
            "                                                                                                  \n",
            " bidirectional_51 (Bidirectiona  (None, 64, 64)      18816       ['max_pooling1d_102[0][0]']      \n",
            " l)                                                                                               \n",
            "                                                                                                  \n",
            " layer_normalization_75 (LayerN  (None, 32, 32)      64          ['max_pooling1d_101[0][0]']      \n",
            " ormalization)                                                                                    \n",
            "                                                                                                  \n",
            " max_pooling1d_103 (MaxPooling1  (None, 32, 64)      0           ['bidirectional_51[0][0]']       \n",
            " D)                                                                                               \n",
            "                                                                                                  \n",
            " dropout_93 (Dropout)           (None, 32, 32)       0           ['layer_normalization_75[0][0]'] \n",
            "                                                                                                  \n",
            " layer_normalization_76 (LayerN  (None, 32, 64)      128         ['max_pooling1d_103[0][0]']      \n",
            " ormalization)                                                                                    \n",
            "                                                                                                  \n",
            " concatenate_25 (Concatenate)   (None, 32, 96)       0           ['dropout_93[0][0]',             \n",
            "                                                                  'layer_normalization_76[0][0]'] \n",
            "                                                                                                  \n",
            " global_max_pooling1d_25 (Globa  (None, 96)          0           ['concatenate_25[0][0]']         \n",
            " lMaxPooling1D)                                                                                   \n",
            "                                                                                                  \n",
            " layer_normalization_77 (LayerN  (None, 96)          192         ['global_max_pooling1d_25[0][0]']\n",
            " ormalization)                                                                                    \n",
            "                                                                                                  \n",
            " dense_125 (Dense)              (None, 90)           8730        ['layer_normalization_77[0][0]'] \n",
            "                                                                                                  \n",
            " dropout_94 (Dropout)           (None, 90)           0           ['dense_125[0][0]']              \n",
            "                                                                                                  \n",
            " dense_126 (Dense)              (None, 70)           6370        ['dropout_94[0][0]']             \n",
            "                                                                                                  \n",
            " dense_127 (Dense)              (None, 50)           3550        ['dense_126[0][0]']              \n",
            "                                                                                                  \n",
            " dropout_95 (Dropout)           (None, 50)           0           ['dense_127[0][0]']              \n",
            "                                                                                                  \n",
            " dense_128 (Dense)              (None, 30)           1530        ['dropout_95[0][0]']             \n",
            "                                                                                                  \n",
            " dense_129 (Dense)              (None, 5)            155         ['dense_128[0][0]']              \n",
            "                                                                                                  \n",
            "==================================================================================================\n",
            "Total params: 3,604,655\n",
            "Trainable params: 3,604,655\n",
            "Non-trainable params: 0\n",
            "__________________________________________________________________________________________________\n"
          ]
        }
      ],
      "source": [
        "def generate_model():\n",
        "  dropout_threshold = 0.2\n",
        "  input_dim = data_vocab_size\n",
        "  output_dim = 64\n",
        "  input_length = maxlen\n",
        "  initializer = tf.keras.initializers.GlorotNormal()\n",
        "\n",
        "  input_layer = Input(shape = (input_length))\n",
        "  feature = Embedding(input_dim=input_dim, output_dim=output_dim, input_length=input_length, embeddings_initializer=\"GlorotNormal\")(input_layer)\n",
        "\n",
        "  cnn_feature = Conv1D(filters=32, kernel_size=3, padding= 'same', activation='relu')(feature)\n",
        "  cnn_feature = MaxPooling1D()(cnn_feature)\n",
        "  cnn_feature = Dropout(dropout_threshold)(cnn_feature)\n",
        "  cnn_feature = Conv1D(filters=32, kernel_size=3, padding= 'same', activation='relu')(cnn_feature)\n",
        "  cnn_feature = MaxPooling1D()(cnn_feature)\n",
        "  cnn_feature = LayerNormalization()(cnn_feature)\n",
        "  cnn_feature = Dropout(dropout_threshold)(cnn_feature)\n",
        "\n",
        "  bi_lstm_feature = Bidirectional(LSTM(units=32, dropout = dropout_threshold, return_sequences=True, kernel_initializer=initializer), merge_mode='concat')(feature)\n",
        "  bi_lstm_feature = MaxPooling1D()(bi_lstm_feature)\n",
        "\n",
        "  bi_lstm_feature = Bidirectional(GRU(units=32, dropout = dropout_threshold, return_sequences=True, kernel_initializer=initializer), merge_mode='concat')(bi_lstm_feature)\n",
        "  bi_lstm_feature = MaxPooling1D()(bi_lstm_feature)\n",
        "  bi_lstm_feature = LayerNormalization()(bi_lstm_feature)\n",
        "\n",
        "  combine_feature = tf.keras.layers.Concatenate()([cnn_feature, bi_lstm_feature])\n",
        "  combine_feature = GlobalMaxPooling1D()(combine_feature)\n",
        "  combine_feature = LayerNormalization()(combine_feature)\n",
        "\n",
        "  classifier = Dense(90, activation='relu')(combine_feature)\n",
        "  classifier = Dropout(0.2)(classifier) \n",
        "  classifier = Dense(70, activation='relu')(classifier)\n",
        "  #classifier = Dropout(0.2)(classifier) \n",
        "  classifier = Dense(50, activation='relu')(classifier)\n",
        "  classifier = Dropout(0.2)(classifier) \n",
        "  classifier = Dense(30, activation='relu')(classifier)\n",
        "  #classifier = Dropout(0.2)(classifier) \n",
        "  classifier = Dense(5, activation='softmax')(classifier)\n",
        "  #classifier = Dropout(0.2)(classifier) \n",
        "\n",
        "  model = tf.keras.Model(inputs = input_layer, outputs = classifier)\n",
        "\n",
        "  return model\n",
        "\n",
        "model = generate_model()\n",
        "adam = Adam(learning_rate = 0.001)\n",
        "model.compile(optimizer=adam, loss='categorical_crossentropy', metrics=['accuracy'])\n",
        "\n",
        "model.summary()"
      ]
    },
    {
      "cell_type": "code",
      "execution_count": null,
      "metadata": {
        "id": "YJkhRL6Ht4UL"
      },
      "outputs": [],
      "source": [
        "dot_img_file = 'model_visualize.png'\n",
        "tf.keras.utils.plot_model(model, to_file=dot_img_file, show_shapes=True)"
      ]
    },
    {
      "cell_type": "code",
      "execution_count": 87,
      "metadata": {
        "id": "1HMfKJb0vQLw",
        "colab": {
          "base_uri": "https://localhost:8080/"
        },
        "outputId": "c01f0345-624a-4f45-9359-53547e2a7b3f"
      },
      "outputs": [
        {
          "output_type": "stream",
          "name": "stdout",
          "text": [
            "Epoch 1/2\n",
            "899/899 [==============================] - 35s 31ms/step - loss: 0.9500 - accuracy: 0.6101 - val_loss: 0.8378 - val_accuracy: 0.6498\n",
            "Epoch 2/2\n",
            "899/899 [==============================] - 26s 29ms/step - loss: 0.8252 - accuracy: 0.6584 - val_loss: 0.8250 - val_accuracy: 0.6553\n"
          ]
        }
      ],
      "source": [
        "callback_model = tf.keras.callbacks.ModelCheckpoint('model_cnn_bilstm.h5', monitor='val_loss')\n",
        "history = model.fit(x = X_train, y = y_train, validation_data = (X_val, y_val), epochs = 2, batch_size = 256, callbacks=[callback_model])"
      ]
    },
    {
      "cell_type": "code",
      "execution_count": 88,
      "metadata": {
        "colab": {
          "base_uri": "https://localhost:8080/"
        },
        "id": "P5rZ_kK18ijD",
        "outputId": "e9070e67-6d91-4e67-e6dd-a6d1d40597cf"
      },
      "outputs": [
        {
          "output_type": "stream",
          "name": "stdout",
          "text": [
            "379/379 [==============================] - 4s 10ms/step - loss: 0.8286 - accuracy: 0.6595\n"
          ]
        },
        {
          "output_type": "execute_result",
          "data": {
            "text/plain": [
              "[0.828612208366394, 0.6595375537872314]"
            ]
          },
          "metadata": {},
          "execution_count": 88
        }
      ],
      "source": [
        "model.load_weights('model_cnn_bilstm.h5')\n",
        "model.evaluate(X_test,y_test)"
      ]
    },
    {
      "cell_type": "code",
      "execution_count": 89,
      "metadata": {
        "id": "vEs5DdPk8yO5"
      },
      "outputs": [],
      "source": [
        "def preprocess_raw_input(text_input, tokenizer):\n",
        "  input_text_pre = list(tf.keras.preprocessing.text.text_to_word_sequence(text_input))\n",
        "  input_text_pre = \" \".join(input_text_pre)\n",
        "  input_text_pre = ViTokenizer.tokenize(input_text_pre)\n",
        "  tokenized_data_text1 = tokenizer.texts_to_sequences([input_text_pre])\n",
        "  vec_data = pad_sequences(tokenized_data_text1, padding = 'post', maxlen = maxlen)\n",
        "  return vec_data\n",
        "\n",
        "def inference_model(input_feature, model):\n",
        "  output = model(input_feature).numpy()[0]\n",
        "  result = output.argmax()\n",
        "  label_dict1 = {1:0, 2:1, 3:2, 4:3, 5:4}\n",
        "  label = list(label_dict.keys())\n",
        "  return label[int(result)]\n",
        "\n",
        "def prediction(raw_input, tokenizer, model):\n",
        "  text_input = text_preprocess(raw_input)\n",
        "  rate_comment = check_comment_rated(text_input)\n",
        "  if(rate_comment != -1):\n",
        "    return rate_comment\n",
        "  input_model = preprocess_raw_input(text_input, tokenizer_data)\n",
        "  result = inference_model(input_model, model)\n",
        "  return int(result)\n",
        "\n",
        "my_model = generate_model()\n",
        "my_model = load_model('model_cnn_bilstm.h5')\n",
        "\n",
        "with open(r'tokenizer_data.pkl',\"rb\") as input_file:\n",
        "  my_tokenizer = pickle.load(input_file)"
      ]
    },
    {
      "cell_type": "code",
      "source": [
        "with open('/content/train.txt') as checkfile:\n",
        "  checkdata = checkfile.read()\n",
        "\n",
        "datac = checkdata.split('\\n')\n",
        "labelc = []\n",
        "textc = []\n",
        "for x in datac:\n",
        "  labelc.append(int(x[0]))\n",
        "  textc.append(x[2:])\n",
        "\n",
        "print(labelc)\n",
        "print(textc)"
      ],
      "metadata": {
        "colab": {
          "base_uri": "https://localhost:8080/"
        },
        "id": "II7PGUxE9BAK",
        "outputId": "6f853087-2d10-4081-9f00-653b403743dc"
      },
      "execution_count": 84,
      "outputs": [
        {
          "output_type": "stream",
          "name": "stdout",
          "text": [
            "[5, 4, 5, 5, 5, 5, 5, 3, 5, 4, 5, 4, 5, 3, 5, 5, 1, 5, 5, 5, 4, 5, 3, 5, 5, 5, 4, 5, 5, 1, 5, 5, 5, 3, 5, 5, 1, 5, 4, 1, 3, 3, 5, 5, 1, 1, 4, 3, 4, 5, 5, 4, 4, 5, 5, 4, 1, 5, 4, 5, 4, 5, 4, 3, 5, 5, 5, 5, 1, 5, 4, 4, 2, 5, 5, 5, 3, 1, 2, 3, 3, 2, 4, 4, 1, 5, 4, 3, 5, 3, 5, 5, 3, 5, 5, 3, 4, 4, 4, 5, 5, 3, 3, 3, 3, 5, 5, 5, 5, 4, 5, 5, 5, 4, 5, 5, 5, 5, 5, 5, 4, 3, 5, 5, 1, 1, 5, 5, 4, 5, 5, 4, 5, 2, 4, 5, 1, 2, 5, 4, 5, 5, 4, 5, 3, 2, 4, 5, 5, 4, 5, 1, 4, 5, 1, 5, 5, 3, 5, 5, 5, 5, 5, 4, 5, 5, 5, 5, 5, 5, 5, 4, 5, 4, 5, 4, 1, 4, 4, 5, 5, 5, 3, 4, 4, 3, 5, 4, 4, 5, 4, 5, 2, 1, 5, 2, 5, 5, 4, 1, 5, 5, 1, 3, 5, 5, 3, 4, 5, 5, 4, 5, 5, 4, 4, 5, 5, 4, 5, 5, 3, 4, 1, 5, 5, 5, 5, 4, 5, 4, 5, 3, 3, 4, 5, 5, 5, 5, 4, 4, 5, 1, 2, 5, 4, 5, 5, 4, 5, 5, 5, 1, 4, 4, 4, 3, 5, 5, 4, 4, 4, 5, 5, 4, 5, 5, 4, 4, 5, 4, 3, 4, 4, 5, 5, 5, 3, 3, 4, 4, 4, 5, 5, 5, 3, 4, 5, 5, 4, 4, 5, 5, 5, 4, 5, 4, 4, 4, 5, 4, 5, 4, 3, 5, 4, 5, 5, 5, 4, 5, 5, 5, 5, 5, 5, 5, 4, 4, 5, 3, 5, 5, 5, 4, 5, 5, 5, 5, 5, 5, 4, 5, 5, 5, 5, 4, 5, 4, 3, 5, 5, 3, 5, 5, 3, 5, 5, 5, 4, 4, 5, 5, 3, 5, 3, 3, 5, 4, 5, 3, 5, 3, 5, 3, 5, 4, 5, 3, 5, 5, 3, 5, 5, 5, 5, 2, 5, 3, 4, 4, 1, 5, 4, 4, 4, 1, 5, 4, 5, 5, 3, 5, 5, 5, 1, 5, 1, 4, 5, 5, 2, 5, 5, 5, 3, 4, 5, 4, 5, 5, 3, 5, 5, 5, 1, 5, 4, 4, 4, 5, 3, 5, 2, 5, 3, 5, 5, 4, 5, 5, 3, 5, 5, 5, 5, 4, 5, 1, 5, 4, 5, 3, 4, 3, 1, 5, 4, 5, 3, 5, 5, 5, 3, 5, 5, 4, 4, 1, 5, 5, 5, 5, 4, 5, 5, 2, 5, 4, 1, 5, 4, 5, 5, 2, 5, 4, 5, 3, 5, 5, 5, 5, 5, 5, 5, 5, 5, 5, 5, 5, 5, 3, 5, 3, 5, 5, 5, 5, 4, 4]\n",
            "['túi rất đẹp  túi đẹp may kĩ và tiện lợi khi bên trong và bên ngoài đều có túi nhỏdây kéo lại đẹp nói chung là rất đáng tiền mua ', 'bốn sao  mẫu mã và chất lượng y hình ', 'năm sao  đẹp ', 'năm sao  verry nice i love it ', 'tot  san pham giong hinhda dep ', 'năm sao đẹp ', 'tuyệt  chỉ 1ngày mà mình đã nhận được hàng hàng rất đẹp mình thích lắm lun á ', '5 sao  tôi rất hài lòng về sản phẩmcảm ơn lazada ', 'túi  đẹp và tiện dụng đã mua thêm 1 cái nữa và còn mua thêm nữa ', 'túi đẹp  có vài chỗ đường chỉ bị may chồng lên nhau nhưng nhìn chung túi đẹp chắc chắn giá rẻ so với chất lượng mình rất thích sp này ', 'tốt  sản phẩm vừa tầm giáchất lượng tốt ', 'danh gia  đẹp nhưng túi hơi nhỏ ', 'năm sao  đẹp lắm rất thích ', 'ba sao  hài lòng với sản phẩm này cực kỳ lần sau sẽ mua hàng trên lazada tiếp ', 'tui xach lata minh mua ve rat hai long  chat lieu da tot ma lai vua tui tien nua mjnh rat thich sp nay ', 'hang dep nhu hibh nhun chac chan ben dep  ok ', 'hàng đúng như hình nhưng trên website có tặng kèm ví mà nhận ko có', 'năm sao  hàng đẹp tốt ', 'rất tốt  hàng nhận giống hình chất liệu đẹp phù hợp với giá tiền ', 'quá đẹp  đã nhận dc hàng quá đẹp phải đặt thêm cái nữa cho 5 sao ', 'san pham dep  san pham dep so voi gia ', 'năm sao  rất hài lòng về sản phẩm da đẹp tỉ mỉ cẩn thẩn đén từng đường may mà giá lại siêu mềm cảm ơn lazada rất nhiều nhé ', 'tốt  sản phẩm tốt trong tầm giá ', 'năm sao  tui dep va re ', 'mik đang dùng túi này thấy thik lắm mà giá cả phải chăng  túi như quảng cáo ', 'tuyệt vời  túi da mềm đường may đẹp giá quá rẻ mình mua lúc 105k đang định đặt thêm mang đi làm hay đi chơi đều đc nhé rất trẻ trung ', 'bốn sao  túi đẹp da mềm mịn giá rẻ tôi rất hài lòng về sản phẩm tuy nhiên giao hàng còn chậm đợi đến 10 ngày thì quá lâu ', 'năm sao  mình rất hài lòng ', 'năm sao  hàng ok rất thích ', 'e đặt túi này sao mãi k thấy ibox vậy  ', '5 sao  tôi thích sản phẩm đã mua ', 'chất lượng tốt  giá vậy là quá ok so với hàng ', 'hai long ve sp va dich vu cua lazada  tui xach nhu hinh anh gia re giao hang nhanh tuyet voi lazada ', 'very good  tôi hài lòng về sản phẩm của các bạn mẫu mã đẹp từng đường chỉ rất chuẩn xác không có lỗi giá cả cực kì hợp lý cám ơn lazada và latashop ', 'đẹp rất ưng ý  mua lúc đang giảm giá 92k sản phẩm rất đẹp da mịn dày dặn quai đeo chắc chắn khuy nút dây kéo đẹp ', 'chất lượng tốt  hàng giao trong 24h thì chiều hôm trc đặt 10h tối hôm sau dậy đi nhận hàng chất lượng hàng tốt chất liệu da tốt chỉ may đẹp mầu sắc vừa mắt quan trọng vợ mình vui cám ơn shop và lazada ', 'gọi người bán không bắt mấy sản phẩm thì không như ý giá bán không đúng', 'hài lòng  ', 'bốn sao  đẹp nhưng hơi nhỏ ', 'không hài lòng tôi vừa nhận được túi xách chất liệu túi nhão form túi thì bị méo nhìn sản phẩm không chắc chắn', 'tạm', 'túi tốt  chất liệu thích giỏ gọn tiện dụng nói chung thích ', 'túi xách  đẹp gọn nhẹ mình rất thích ', 'tuyệt  hàng y hình ok túi rất đẹp và quá rẻ so với giá tiền hài lòng tuyệt đối cho 5 sao ', 'túi xấu', 'hàng vàng mã hàng quá xấu so với ảnh như đồ vàng mã', 'túi hơi bé  hàng tốt chất lượng trừ mỗi điểm túi hơi bé ', 'túi xách  ok rat thik ', 'hai long  hang giong hinhdepgia redinh lua nua ma het hang ', 'năm sao rất ưng ', 'năm sao  da cung dep duong may tot ', 'dep  chat lieu tot dep nhu hinh 39 lata ', 'bốn sao  mới nhận hàng hôm nay vơi giá 77k dùng đựng đồ chơi chơi cũng ổn giống hìnhda cứng cáp ', 'sản phẩm tốt  sản phẩm tốt đóng gói cẩn thận ', 'tui đeo da mềm e thích vi nho bo dien thoại vô vua  tui đeo chéo ', 'sản phẩm chấp nhận được so với mô tả và mức giá  ', 'một sao  ', 'túi đeo chéo lata  hàng đẹp đúng với quãng cáo giao hàng nhanh thân thien rất hài lòng thank laza ', 'xài êm đẹp đc  ', 'dep  nhu hinh ', 'bốn sao  chất lượng sản phẩm tốt hơn mong đợi ', 'sản phẩm tốt  sản phẩm tốt đóng gói cẩn thận ', 'tốt  sản phẩm dùng ok với tầm giá này thì chất lượng rất tốt ', 'ba sao  hàng phù hợp với giá tiền ', 'tuyệt vời  mua rất ưng í ', 'tuyệt vời  sản phẩm đẹp giao hàng nhanh giá cả cũng hợp lý ', 'tốt  mua được giá rẻ 100k hài lòng da mềm chắc gọn nhẹ để ví bóp và điện thoại vừa phải không cồng kềnh tiện lợi ', 'hàng đẹp dùng ok  rất hài lòng về sản phẩm ', 'một sao  mình hài lòng với sp với giá tiền như vậy thì sp ổn rùi ', 'dich vu tuong doi tot  dat hang nhanh ', 'tốt  giao hàng nhanh hàng rất đẹp mình rất hài lòng với sản phẩm nhưng khi giao hàng mình không thấy có hóa đơn giao hàng ', 'dep moi toi hoi nho neu ban la nam gioi  ', 'túi nhỏ xinh phù hợp với giá tiền đã giảm nhưng ko hài lòng ở mùi của da túi mãi ko thấy bay hết mùi hic', 'năm sao  ok hài lòng về sản phẩm ', 'tuyệt  túi da giống y hình da rất đẹp rất đáng để mua sản phẩm rất ưng í ', 'túi đẹp  túi đẹp 5 sao ', 'ba sao  ví da cũng rất oki nhé nhưng ví tặng thì hơi kì ', 'robt s repp một sao  ', 'hang re mà đep  sai ok ', 'hài lòng mình rất thích túi chất đẹp hàng đẹp tuy màu không được đậm như hình', 'tốt  hàng đẹp chất liệu tốt dày dặn rất vừa ý ', 'nhìn đẹp nhìn đẹp nhưng ko bền đeo vào thì rớt dây rớt khóa tùm lum', 'tot ok  kich thuoc nho hon mau dam hom da mem duong chi chac chan noi tom lai hai long ', 'hàng ok  túi đeo chéo ', 'dởm tiền nào của nấy cũng tạm đc thôi', 'sản phẩm đẹp  hàng đẹp da sờ mềm thích gói hàng thì cẩn thận vote 5 sao ', 'bốn sao  túi đẹp giá rẻ nhưng màu hơi đậm hơn so với trong hình ', 'ba sao  da đẹp ', 'tốt  thực sự hài lòng sản phẩm tốt giá thành rẻ 79k ', 'kính mát nam  chất lượng chưa được tốt ', 'túi đeo chéo lata hn00 1 mình mới nhận được sp sáng nay rất ưng ý sp nhìn ngoài rất đẹp ', 'tuyệt vời  túi rất đẹp và chắc chắn giá lại rẻ sẽ mua tiếp ', 'ba sao  túi đẹp ', 'năm sao  túi đẹp da mềm chất lượng tốt hài lòng với sản phẩm ', 'giao hàng nhanh sản phẩm đẹp giá rẻ  rất ưng ý với tất cả 4 sp mình đã mua ', 'ba sao hàng dùng được nhưng hơi đắt so với thực tế', 'good  ', 'chất lượng ok  ', 'chất lượng  túi dày dặn chắc chắn đường may đẹp khá hài lòng với sp này ', 'năm sao  ', 'túi đẹp đường may cũng chắc chắn cám ơn lata cám ơn lazada  5 sao so với giá tiền ', 'ba sao  rất tốt ', 'ba sao  em rất ứng sản phẩm rất đúng mục đích của e ', 'ba sao ok ', 'ba sao  tốt giao hàng nhanh hàng ưng ý ', 'túi đẹp tương ứng với giá mình rất hài lòng  ', 'hài lòng với sp này  sp có thương hiệu chất liệu tốt giá giảm rẻ quá mình mua luôn 6 cái ', 'quá sức hài lòng  cực kì hài lòng khi nhận được sản phẩm rất đẹp mình rất rất thích luôn lại còn được bảo hành nữa <3 ', 'hàng chất lương y trong hình  hàng đẹp đường may đẹp lần đầu mua mà ương ý lắm lun ', 'thích  mình đã đặt mua và dùng được một thời gian túi khá chất lượng túi đẹp đeo cũng khá bền với giá cả như vậy rất phù hợp ', 'năm sao  spham dep dung nhu trong hinh anh dang ban minh mua tang sinh nhat nguoi duoc tang rat thich va khen gio tot duong chi may chac minh se tiep tuc ung ho thuong hieu lata nay ', 'năm sao  ', 'tui sách  tui sách mem êm giong như lazada da gioi thieu toi rat hai long ', 'bốn sao  ok ngon bổ rẽ ', 'năm sao  giá cả phải chăng túi giống hình nói chung ok ', 'năm sao 1 năm trước hàng đẹp bền mình rất ưng ý ', 'đánh giá  vừa ý khi nhận sản phẩm ', 'năm sao  ', 'túi đeo chéo lata  hàng rất chi là oke thanks lazada nhé ', 'da đẹp ưng ý lắm  ', 'hàng được mua để tặng nói túi xách 99000đ người được tặng không tin phải cao giá hơn và cảm ơn  ', 'túi chéo  ok vải đẹp hợp túi tiền ', 'năm sao  dày dặn đẹp như hình rất thích ', 'năm sao  túi rất đẹp y như hình đầy đặn đường chỉ chắc chắn giao hàng rất nhanh ', 'giao hàng chậm quá 7 hôm rồi mình vẫn chưa nhận được khi nào hàng về mình sẽ hoàn trả lại shop', 'một sao 1 năm trước chất lượng tốt ', 'năm sao  chất lượng đúng như thông tin sp oke ', 'tốt  sp tốt và đẹp như đúng cam kết ', 'tot  ', 'đẹp và rẻ  dùng ok so với giá là quá ổn mua ở ngoài cùng loại phải trên 300k cám ơn shop và lazada ', 'túi da đẹp  túi đẹp da tốt rất ưng ý tuy nhiên mong lazada giao hàng nhanh hơn nữa ', 'bốn sao 1 năm trước lan dau tien mua hang tren lazada hang giong nhu hinh moi rat dep ', 'năm sao cung dc ', 'tạm ổn', 'hỏi hôm trước có đăng kí mua 1 túi xách da bò thế này mà kg thấy liên hệ nên hỏi thử có hàng này kg ạ ', 'đẹp  túi đẹp hơn mấy mẫu khác của lata đường may sắc sảo xài rất bền ', 'mua tặng bạn xài chưa bao lâu đẫ đứt hàng vàng mã', 'mình nhận được hàng rồi túi so với hình ko giống lắm về kích thước', 'rẻ đẹp  màu sắc đường may đẹp vải lót trong cũng rất tốt giao hàng lại nhanh rất vừa ý ', 'ưng ý  sản phẩm đẹp so với giá nhưng logo nó k ở chính giữa sản phẩm mà ở 1 góc sp k giống trên hình nhỉ nói chung là ưng ', 'năm sao  tốt ', 'năm sao  nhận hàng hơi trễ nhưng chất lượng ok giống mẫu đường may ngay ngắn lớp lót bên trong đẹp hài lòng về sản phẩm ', 'tốt  hàng giống hình hài lòng ', 'năm sao  hàng đẹp da mềm cảm ơn lazada ', 'đẹp  túi may chắc chắn y hình ', 'hai sao  ', 'bốn sao  sản phẩm ổn ngoài việc màu đậm hơn so với hình thì còn lại tốt da mềm đường may chắc chắn ', 'hài lòng  sp đẹp chắc chắn giá rẻ cảm ơn lata và lazada ', 'rất đáng đồng tiền  ', 'bóp đeo  sản phẩm đẹp giá tốt ', 'rất đẹp  cám ơn lata và lazada túi may rất đẹp tôi không nghĩ hàng vn hơn trăm bạc mà lại đẹp đến vậy trong tương lai sẽ tiếp tục mua đồ của các bạn ', 'hàng may bị lỗi bởi vậy nên mới bán giá do', 'hang tot lam  toi da mua va cong nhan hang rat tot ', 'năm sao  rất đẹp ', 'không bao giờ mua nữa', 'chất lượng cực kì đa mua đc gần 1 tháng r  mình thấy lata rất có uy tín và hàng rất bền đẹp tuy nhiên theo mình nếu muốn tương lai sẽ còn đc biết đến rộng rãi hơn nx lata nên đầu tư đa dạng mãu túi cho chị em phụ nữ vì chị em túi xách là một phần cs rồi nên sẽ đầu tư cho túi đẹp và nếu rẻ mà bền thì càng tốt đặc biệt đa dạng màu hơn nhé lata các màu như đỏ xanh hồng bởi theo mình biết thì da có thể nhuộm đc mỗi nâu vs đen trông ko hút mắt lắm ', 'hàng đẹp và rẻ hơn mong đợi  mình mua khi sản phẩm sale off nhưng không thể tin được là túi đẹp đến thế chắc chắn dày dặn đường may rất cẩn thận mình có nhiều túi qc đắt tiền gấp chục lần mà cũng ko được như vậy ủng hộ lata dài dài ', 'ba sao  túi rất đép giống hệt trên ảnh t rất thich ', 'túi  túi đẹp chất liệu ổn mầu đẹp <3 ', 'túi đeo chéo lata hn08 da bò nhạt  mình rất hài lòng về chất lượng của túi và cách làm việc của lazada tặng 5 sao ', 'rất hài lòng về sản phẩm  hii  hi ', 'la mùi  túi đẹp  ', 'rất ok  ok ', 'bốn sao  chất lượng túi tốt hơn nhiều so với mình nghĩ khi mua với giá đó đường may chắc chắn màu y như hình hài lòng về sản phẩm ', 'hàng quá đẹp  đúng là hàng vn chất lượng cao túi da khá dày và mềm đường may chắc chắn mình mua chiếc màu vàng nhạt nhìn rất đẹp dễ phối đồ có điều kích thước hơi nhỏ k đủ cho đựng vở đi học nên chỉ thích hợp đeo đi chơi thôi ', 'tốt hài lòng  ', 'good  quá bất ngờ khi nhận đc hàng giá chỉ 99k theo tôi chỉ tiền công may là dư rồimay rất đẹp đường may sắc nét túi thì chỉ 1 từ đẹp tuyệt vời ông mặt trời hơn những gì mình tưởng trước giờ mua hàng chưa sp nào rẻ mà tốt ntn thật ko thể tin nổi sẽ đặt thêm 10sp nữa làm quà biếu acetks nhà phân phối sp nầy chúc bạn mua may bán đắc ', 'túi da bò nâu nhạt hài lòng  sản phẩm đẹp đường may và khóa rất chắc chắn kích thước chuẩn giống như thông tin đã cung cấp màu túi đậm hơn so với ảnh chụp một chút giao hàng đóng gói sản phẩm cẩn thận mình rất ứng ý cám ơn lazada ', 'đẹp và chất  sản phẩm đẹp hơn hình luôn lần đầu tiên mua cái túi da mà thấy hài lòng chắc chắn dày dặn ', 'ok  mình mới nhận sản phẩm giỏ đẹp đường may rất đều và đẹp da dày mềm ok giá rẻ ', 'good  rất vừa ý hàng đẹp ', 'bốn sao  da memgiong y chang nhu hinhnoi chung vua tui tien ', 'túi đẹp  túi đẹp gống hình ủng hộ lâzda nhiều hơn nữa cảnm ơn lâzda ', 'nice  đẹp hài lòng ', 'năm sao túi đẹp như hình đường may khá đẹp da mềm túi kích thước vừa vặn dễ kết hợp đồ màu hơi đậm so với ảnh nhưng rất đẹp ', 'bốn sao  giá tốt sản phẩm tốt đường may đẹp chất liệu da ổn vải lót dày kích thước túi hơi nhỏ ', 'túi da  ưng lắm đi chơi thật tuyệt cám ơn lazada ', 'bốn sao  đepchất da khá tốt ', 'tốt trong tầm giá  túi đẹp da tốt lớp lót êm ái khóa kéo chắc chắn nhưng hơi nhỏ chỉ đủ bỏ ví tiền và điện thoại thôi ', 'túi đeo chéo lata hn08 da bò nhạt  mình rất hài lòng về chất lượng của túi và cách làm việc của lazada tặng 5 sao ', 'năm sao  túi đẹp y hình rất hài lòng ', 'tốt  sản phẩm đẹp và tốt như hình ', 'ba sao  túi đẹp chất lượng đường may ưng ý ok ', 'bốn sao  túi may chắc chắn rất thích mỗi tội màu đậm hơn so với hình ', 'good  sản phẩm tốt ', 'khá hài lòng về sản phẩm  mình cũng là người hay mua hàng online cũng mua nhiều shop nhưng đây là lần đầu tiên mình mua trên lazada mình mới đặt hàng chiều hôm qua thì chiều hôm nay đã nhận được hàng phải công nhận lazada gói hàng rất kĩ mình rất thích và hàng nhận được thì màu sắc như hình đường mau khá chắc nói chung nhìn thích còn kích thước thì đựng được quyên vớ khá là ok và mình cũng hài lòng về cách xác nhận đơn hàng hi vọng lazada sẽ nhiều sản phẩm giá cả hợp lý và chất lượng tốt để phục vụ khách hàng ', 'hải lòng  hải lòng ', 'ok 1 năm trước chất liệu cứng hơn mình nghĩ ko mềm lắm màu sắc đúng như hình dùng mấy tháng rồi chưa thấy bong tróc sứt chỉ dùng cũng được ', 'good  mua ngày giảm giá còn 91kmjh rất hài lòng về chất lượngđường may đẹpchắc chắntúi để đc ví và đtmàu thì nhạt hơn so với hìnhnchung là ok ', 'hàng đẹp  đường may chắc giá rẻ ', 'khá tốt  mới nhận hàng hôm nay da bò mềm màu không chuẩn như hình lắm màu như da bò nhạt lớp lót đẹp đường may chắc chắn kích thước hơi nhỏ chỉ để được ipad mini để dùng lâu coi có bền không ', 'quá chất lượng  giá rẻ mà chất lượng thì quá tốt da mềm đường may chắc chắn kiểu dáng y như hình rất đáng để mua giao hàng rất nhanh sẽ luôn ủng hộ lata và lazada ', 'hai sao  tốt ', 'một sao  good ', 'hai long  mau ma dep chat lieu tot ', 'kém da xấu nhàu giao hàng bị lỗi tróc da ngay gần nút gài', 'mình nhận đk hàng từ lazada hàng rất tốt d  ', 'túi đeo chéo  hàng chất lượng ', 'hài lòng về sản phẩm  da mềm đường chỉ chắc chắn thiết kế phù hợp với nhu cầu của minh ', 'sản phẩm bị lỗi dây đeo thiếu móc', 'năm sao  túi đẹp mình mua đợt sale 70k thấy túi quá thích luôn hợp đi chơi ', 'b  năm sao  hàng đẹp rất hài lòng ', 'một sao 1 năm trước toi rat hai long ve sp mjh mua tren lazada ', 'sản phẩm đẹp nhưng kích thước nhỏ hơn lazada đã mô tả chất liệu tốt đường may đẹp nhưng giao cho mình nhầm màu mình đặt màu da bò nhạt nhưng nhận màu da bò đậm  ', 'tốt  hàng rat tot duong may chac chancam on larada ', 'rất đẹp ah  ', 'dep  ', 'bốn sao  sản phẩm đẹp chất lượng tốt giá cả hợp lý ', 'sản phẩm tốt  sản phẩm đẹp và chất lượng so với giá đó ', 'năm sao  túi khá đẹp giống hình trên trang khá hài lòng ', 'túi đẹp hài lòng với sản phẩm  ok ', 'tốt  giao hàng nhanh hàng đúng mẩu ', 'năm sao  ', 'bốn sao  da mem nhung tui hoi nhototdang mua ', 'túi đeo chéo  đường may khá chắc chắn màu túi ok chỉ là gói hàng bằng một tờ giấy có nhiều ng ko để ý lấy dao rọc giấy mở xẹc cái là đi luôn cái túi nên gói cho cẩn thận bằng 2 ba lớp để tránh trường hợp trên ', 'năm sao  túi đẹp chất lượng tốt tôi đã đặt mua tổng cộng 9 cái với giá 99k cái cảm ơn lzd ', 'thích  quá bất ngờ về sản phẩm giá rất rẻ chất lượng lại miễn chê mình sẽ giới thiệu nhiều ng mua chế độ bảo hành cũng rất ok đặc biệt giao hàng cực nhanh ', 'ghia nguyen túi da mềm đường may sắt sảo  ', 'túi của lata đã mua và đã sử dụng  túi y hìnhđường may đẹpthương hiệu lata tôi nghĩ mọi người nên sử dụng ', 'túi full đẹp lun lại đc giảm giá tuyệt vời  túi đẹp cả trong lẫn ngoài ', 'ba sao  mình thấy rất hài lòng ', 'gio xách lata  hang nhu hình rat tot ', 'ko nhưa quảng cáo có mỗi 1 ngăn có mỗi 1 ngăn làm quái gì có ngăn khoá như hình quảng cáo', 'tốt  đã nhận hàng nhanh hơn kế hoạch hàng đẹp thích ', 'túi đẹp  tốt m rất hài lòng ', 'phương  ok  ', 'năm sao  dakieu deu rat dep va vua y nuarat vua y ', 'bốn sao  sản phẩm ổn màu da giống hình chỉ may tốt bên trong vải nỉ nên bất ngờ chút ', 'good  mình hài lòng về chất lượng vì không nghĩ giá như vậy mà được hàng tốt mỗi tội giao hàng chậm quá ', 'hài lòng  giao hàng nhanh gói hàng cũng đẹp nữa về chiếc túi thì mẫu mã giống trong mô tả dây đeo chắc chắn nhưng có điều màu hơi nhạt hơn so với trong hình tý n hưng sản phẩm chất lượng rất ok ', 'đẹp  chất liệu bên trong mềm mạirất ưng ý sp nàymình fải mua thêm 1 cái dùm chị hàng xóm đó ', 'ba sao  túi đeo giống như hình đẹpnhưng hơi nhỏ ', 'ba sao  gio dep gia ca vua tui tien cong nhan ', 'bốn sao  sản phẩm như mô tả đường may cẩn thận hài lòng với sản phẩm ', 'túi đeo chéo  hàng chất lượng bền đẹp ', 'tuyệt vời  chất lượng ok 5 sao ', 'năm sao  minh rat hai long ve san pham ', 'chất lượng tốt giá rẻ  em này đẹp như hình đường may chắc chắn da mềm nên đeo rất thoải mái bên trong lót vải cũng mềm nch là rất ưng ý chắc phải mua thêm cái nữa 33 ', 'bốn sao  túi đẹp đúng như thông tin sản phẩm ', 'bốn sao 1 năm trước đẹp giống hình lóp vải bên trong ok giá mềm ', 'năm sao  đã nhận được sản phẩm vô cùng ưng ý ', 'một sao  gia tot kieu depda depok ', 'tạm được hơi nhỏ  lúc mua ko để ý kích cỡ mua về thì cảm giác túi nhỏ là nam đeo thì hơi dở nhìn trông ái ái thích hợp với nữ hơn ', 'năm sao  sản phẩm này nhìn khá thời trang bắt mắt nhé mình mua cho em nó dùng rất tốt vì dùng lâu rồi mà còn như mới luôn hé ', 'bốn sao  duoc gia tot chat luong ', 'rất hài lòng  túi đẹp ngoài sự mong đợi của mình quá rẻ cho 1 sp chất lượng giao hàng nhanh ngoài dự kiến ', 'ok tui dep vua y  ', 'bốn sao  good ', 'năm sao  túi đúng hìnhda mềm đẹp thikkk ', 'năm sao  san pham tuyet voi day duong may chac chan toi rat thich nen mua them 2 cai nua tang cho ban ', 'sản phẩm như hình  sản phẩm đẹp đường may tỉ mẩn đáng tiền ui moa ', 'nói chung thì với giá tiền này túi là phù hợp chứ cũng chẳng sale với không sale gì nhìn thì đẹp mà nhận thì chất lượng hơi chán dây đeo dài quá bây giờ làm thế nào để tháo ra đây', 'túi quai chéo  cảm ơn lazada mình nhận được hàng sớm hơn nhiều so với dự kiến túi đẹp tuy nhiên màu đậm hơn so với ảnh ', 'bốn sao  sản phẩm tốt đúng như hình ', 'chiếc túi rất đẹp  chiếc túi rất đẹp thích hợp đi chơi đi học thêm vì nếu bỏ tập chỉ bỏ được 12 quyển nói chung đây là một sản phẩm khá tốt với giá cực kì phải chăng mong là sẽ mau chóng có thêm nhiều mẫu mới với chất lượng ngày càng tốt hơn cảm ơn lazada ', 'ba sao  mình ưng ý với sản phẩm đã mua ', 'rất hài lòng  mua bữa giá 69k da đẹp rất chắc chắn mình cực thích ', 'năm sao  giao hàng nhanh hơn dự kiến sp đc đóng gói tốt chất lượng sp rất ok dây đeo khá chắc chắn giả rẻ nữa nên mua các bạn ạ ', 'rất thích  mình rất vui về chiếc túi này mới mang con bạn thấy cũng muốn mua một chiếc giá thì cũng khá là hợp lý và hợp với túi tiền của mình đường may chắc chắn không bị lỗi 1 chút nào hết bên trong được may bằng vải nhung rất êm không lo bị thủng xước khi để vật nhọn sắc bén và có nhiều ngăn nhỏ ', 'sản phẩm đẹp  ', 'tốt  túi dày dặn đường may chắc chắn và da đẹp hơn so suy nghĩ của mình nhưng màu đậm hơn trong hình 1 chút ', 'hàng dùng ổn  chất liệu đẹp chú ý là hàng cho nữ nam dùng k hợp lắm ', 'năm sao túi da bò nhìn chắc chắn đường may tinh xảo đeo lên nhìn rất đẹp đựng được khá nhiều đồ giao hàng nhanh chóng đúng lúc cần cảm ơn lazada nhé ', 'bốn sao  sản phẩm đẹp như hình ', 'tốt  tốt giao hàng nhanh hàng chất lượng tốt rất hài lòng về sp này ', '4 sao rưỡi  túi to hơn hình tí nhưng cũng ok ai thích đơn giản thì chọn vì chỉ có vài ngăn nổi bật thôi ', 'tốt  hàng rất chắn chắn phù hợp vs giá tiền có điều còn đường kẻ may chưa xóa bằng viết nhủ mình ko xóa đc hên là ko rõ lắm ', 'bốn sao  mình nhận được hàng các bạn gửi rồi hàng như ảnh dùng tốt xin cảm ơn ', 'hàng rẻ mà chất lượng  giao hàng cực nhanh mình cx k ngờ luôn chất lượng quá ổn so với mức giá đường may nhìn khá chắc chắn tuy nhiên màu hơi đậm so với hình nhưng nhìn cx ok lắm sẽ ủng hộ hàng lata dài dài ', 'ltúi da mềm đẹp  túi đẹp tuy nhiên hơi già dùng cho trung niên phù hợp ', 'ba sao  bình thường ', 'sản phẩm vừa ý dùng rất tiện lợi vừa túi tiền với công chức  sản phẩm vừa ý dùng rất tiện lợi vừa túi tiền với công chức ', 'tốt  ', 'ok  hài lòng ', 'đẹp chất lượng ok  túi mk nhận đk y như hình mk chọn giao hàng tiết kiệm nhưng lazada giao hàng sớm hơn dự kiến <3da chắc chắn đường may cũng đẹp nữa ', 'rất hài lòng  hàng đẹp túi vừa phải đựng vừa ipad nói chung là rất thích cảm ơn anh giao hàng thân thiện ạ ', 'ba sao  chất liệu đẹp tuy nhiên đường may hơi sâu nên lòng túi hơi nhỏnói chung là chất lượng và giá cả hợp lý ', 'ba sao mình rất thích sản phẩm này mình thấy nó hợp với mình đơn giản nhưng vẫn sang trọngchất liệu da bò mềm mại giá cả lại rẻ hơn minh mua ngoài các cửa hàng và mặt khách giao hàng rất nhanh chóng nói chung cũng mới mua một và sản phẩm nhưng mình rất thích dịch vụ của lazada ', 'bốn sao  ', 'hàng chất lượng  hàng đẹp giá rẽ nv giao hàng nhanh ', 'bốn sao  cũng được ', 'tôt  hài lòng với sản phẩm ', 'rất tốt  tooii đã dùng balo của lata được 2 năm rồi mà vẫn chưa bị hư chất da và đường may đều tốt tôi đã đặt 2 chiếc túi này cho tôi và cho chị gái với giá khuyến mãi đặt hôm qua hôm nay đã nhận được rồi tôi thật sự rất hài lòng với sản phẩm của lata ', 'giống với ảnh đáng mua  chất liệu ưng ý hài lòng với sản phẩm ', 'ba sao oke', 'bốn sao  ', 'năm sao  tốt ', 'tui deo cheo  tui deo cheo thuong hieu lata 3 mau deu rat dep chat luong rat tot gia ca qua re so voi tat ca nhung gi that tot cua san pham ', 'tốt  đep ', 'bốn sao  sản phẩm tốt đẹp y hình nhưng gửi chậm so với thời hạn 5 ngày chờ mãi mà chả nhận được tưởng trôi luôn chơ đóng gói cẩn thận ', 'năm sao  chất liệu okie ', 'năm sao  túi đẹp mình rất thích nhưng bé mình đựng 1 cái ví đt mấy thỏi son và hũ kem dưỡng ẩm loại bé là full rồi ', 'good  trên cả tuyệt vời ', 'giá đẹp  mới mua là 115kgiờ là 99k hàng đẹp đómong chuyến hàng 99k với chất luợng k đổicần thời gian xem da có bị nổ nhanb kcpnf bây giờ thấy là ok ', 'rất ok  rất hài lòng ', 'ok  gia thanh okminh mua luc tui sale con 69kchat lieu day danhop voi tui tienchi tiec la minh chon da bo nhat thi lzd lai giao cho da bo dam ', 'chat lieu tot mau ma dep va giao hang nhanh hon du kien  san pham chat luong tot mau ma dep toi rat hai long ', 'bốn sao  chất lương và mẫu mã ổn sản phẩm giống hình phù hợp để đi chơi bạn có thể để vừa cả loại ví dài nên mua ', 'sản phẩm rất tốt hợp giá tiền  đẹp ', 'sản phẩm dep  đặt hàng nhanh ', 'tui chat luong  hang chat luong lazada nen phat huy nhe ', 'tui dep vua y  dep ', 'tien nao cua do cung ok lam  cung tot ', 'năm sao  túi da bò nhạt này đẹp hơn cái màu đậm đợt rồi mình mua đó mà sử dụng tốt nên mua thêm cho em mình một cái để dùng nói chung cũng được xài tốt ', 'đẹp đẹp đúng như hình nhưng cái ví tặng theo nhìn khó diễn tả quá d ', 'rất hài lòng  chất liệu da làm túi trong không được chuẩn cho lắm nhưng so với giá cả thì mềm rồi chiếc túi mình có thể mang đi làm cũng hợp lý màu sắc chiếc túi đẹp dây đeo khá cứng cáp ', 'tuyệt vời  giá 100k mà đường chỉ chắc chắn da dày mình cực thích phần bên trong tuyệt sẽ tiếp tục mua của lata ', 'năm sao  tốt ', 'bốn sao  nhin ok gia lai re ', 'năm sao  ', 'tuyệt  đã nhận được hàng nhìn chung rất thích ', 'túi lât vn03  mình rất rất hài lòng về chiếc túi nàychất liệu da mềm và dễ thương nữa ', '5 sao  túi da mềm rẻ và đẹp tôi rất hài lòng sản phẩm này ', 'tốt cực tốt  hàng đã nhận chiều nay và đặt thêm 11 cái mong là đẹp giốg y vậy ', 'hàng đẹp chất lượng  ', 'tốt  túi đẹp ', 'bốn sao  tốt ', 'hàng như miêu tả chắc chắn giao hàng sớm  các nhận xét của mọi người về đường may chắc chắn chất liệu đẹp và lót trong mềm dày dặn đều đúng các khóa khớp nối dày chắc giao hàng miễn phí sớm một tuần so với dự kiến dây đeo chắc nhưng đoạn gậpđiều chỉnh chưa đẹp lắm so với túi nên cho 45 sao tổng thể hài lòng với giá hợp lý 85k free ship đợt khuyến mại ', 'dùng được  rất ổn so với giá tiền ', 'hàng cũng được nhưng hơi thất vọng do quá nhỏ ko đựng được nhiều đồ bên trong ko giống như mô tả', 'rất hài lòng d ', 'năm sao  hài lòng ', 'túi có thiết kế đơn giản khá đẹp mắt da bò đẹp đeo nhìn rất năng động thoải mái đựng được khá nhiều đồ ', 'tốt 1 năm trước ưu điểm chất lượng tốt hình ảnh giống như hình có bảo hành và địa chỉ công ty sản xuất chưa hài lòng thể tích của túi hơi nhỏ ', 'rất tốt  tôi hài lòng ', 'rất tốt  tuy nhiên đường chỉ mai chưa chính xác ', 'lata  tốt ', 'rất thích  hàng giống hình da mềm nhìn đẹp giao hàng siêu nhanh ', 'tốt hơn mong đợi  khi đặt hàng mình chọn chế độ giao hàng tiết kiệm nên nghĩ cả tuần sau mới có mình ở bình dương ai dè 2 ngày sau có r nói chubg rất hài lòng chỉ là gói sản phẩm ko kỹ cho lắm dễ bị gãy da của mình nguyên ven ko gãy hàng đẹp da dày nói chung với giá 91k mình rất hài lòng ', 'năm sao  túi đúng như mô tả da tốt ', 'tốt  túi như hình tiếc là mua ko đúng dịp lazada giảm nhiều nhất ', 'da mềm nói chung là cũng dk so vs giá thành  ', 'hài lòng về sản phẩm  ', 'sp rất đẹp so với chất lương thì giá tiền rất ok  đẹp rẻchất lg ', ' sp rất đẹp bên trong lớp lót nhung dày dặn  nên mua ', 'bốn sao  ', 'tốt  màu đẹp hơn ảnhchất liệu mềm mại bền đường may chắc chắn form ko đứng lắm nói chung là ok ', 'ok  sản phẩm đẹp giá cả hợp lí ', 'ba sao  san pham dep gia re ', 'good  chất vải dày lắm ak mọi ngk trên đây rẻ chứ chỗ khác 150k trở lên k ak ', 'túi đẹp  ', 'khá là thích sản phẩm  chất liệu da làm túi trong không được chuẩn cho lắm nhưng so với giá cả thì mềm rồi chiếc túi mình có thể mang đi làm cũng hợp lý màu sắc chiếc túi đẹp dây đeo khá cứng cáp ', 'tuyệt vời  hàng đóng gói rất cẩn thận mở ra thì ôi ưng ý cực kỳ luôn hàng giá rẻ mà chất lượng quá ok luôn sắm em túi này ban đầu mục đích để đi chùa cơ mà đi chơi cũng rất ok ', 'năm sao  ', 'rất hài lòng  ', 'hàng tốt 5 sp đúng mô tả gía rẻ', 'quá tốt  da mềm đẹp săn được giá hời 92k mà túi đẹp quá chừng cảm ơn lata lazada ', 'ok  tot ', 'giá rẻ mà đẹp  ', 'tui dep cung kha hai long  ', 'rất hài lòng  ủng hộ lata tuyệt đối ', 'hài lòng  màu túi đậm hơn trong hình túi đẹp các đường may đều đẹp lớp lót túi đủ dày khóa trơn tru nhìn chung sản phẩm tốt mua lúc giá 99k đã thấy rẻ rồi mà h còn 81k ', 'ba sao 1 năm trước ok ', 'tốt  giao hàng rất nhanh và bạn shipper nói chuyện rất thân thiện sản phẩm thì mình thấy ok đợi dùng 1 thời gian xem thế nào rất ủng hộ ', 'ba sao  sản phẩm giống hình sản phẩm tốt giá rẻ ', 'tốt  túi đẹp hàng tốt giá tốt ', 'good chất lượng sản phẩm với giá chấp nhận được rẻ hơn mua ngoài chợ giao hàng tốt ', 'tốt  sp y hình chất lượng tốt ', 'chất lượng tốt  giao hàng nhanh gói hàng cũng đẹp nữa về chiếc túi thì mẫu mã giống trong mô tả dây đeo chắc chắn nhưng có điều màu hơi nhạt hơn so với trong hình tý nhưng sản phẩm chất lượng rất ok ', 'ba sao  sản phẩm giống trong hình tốt ', 'năm sao  tuyệt ', 'ba sao  chất lượng và giá cả hợp lý ', 'túi da rất ok mình rất ưng ý  ngoài sự mong đợi rất ok ', 'lata  tạm hài lòng ', 'năm sao  sản phẩm rất tốt khi nhận được sản phẩm vô cùng vui mừng vì mua hàng nhanh chất lg tốt tiết kiệm được thời gian lựa choncảm ơn lazada ', 'tốt màu đẹp  sản phẩm giống với hình da mềm khóa chắc chắn đường chỉ may đẹp ', 'hài lòng  túi dày dặn đẹp giống hình mua được giá rẻ nữa ', 'ok  hàng đẹp giao nhanh ', 'túi mang chéo lata  hàng đạt yêu cầugiao hàng đúng hẹn ', 'phù hợp với giá  sản phẩm hài lòng đường mai đẹp ', 'ba sao 1 năm trước day đeo hoi nho và yếu ớt ', 'năm sao  quần mềm mại mặc dễ chịu giá rẻ tuy nhiên cúc hơi khó hiểu ', 'ok ok ', 'ăm sao  túi có thiết kế đơn giản khá đẹp mắt da bò đẹp đeo nhìn rất năng động thoải mái đựng được khá nhiều đồ ', 'rất đáng mua  chất liệu tốtđường may kĩ càngmáu sắc đẹp ', 'tiền nào của nấy da xấu dễ rách và đã đứt quai sau 1 tháng sử dụng', 'năm sao  giao hang nhanhda dept rat thich mua hang tai lazada ', 'bề ngoài túi thì ok nhưng bên trong vải hơi xấu túi hơi cứng', 'bốn sao  nhìn đẹpbên trong túi nhìn sang bền ', 'good da tốt  ', 'ok  tôi hài lòng ', 'năm sao  đẹp i như hình ', 'hàng ok  mới đặt hàng 2 ngày đã có tại bình thuậnhàng rẻ mà rất ok ', 'bốn sao  túi giống như hình đẹp rất thích ', 'sản phẩm tốt  mình khá ưng ý với sản phẩmgiá cả phải chăng da mềm kích thước hợp lý màu sắc hơi tối hơn mình nghĩ nhưng dễ phối đồví tặng kèm cùng màu với túi nên thành 1 set đẹp đấyhi ', 'túi mùi kinh lắm', 'tốt  chất lượng tốt da đẹp hàng giao đúng mẫu mã ', 'good  sản phẩm như hình đường may đẹp và chắc chắn ', 'good  túi ok ', 'năm sao  chất lượng rất tuyệt vời ', 'ba sao  ', 'năm sao  ', 'sp tốt  gio sach dep hai long vua matduong may chac chan ', 'good  good ', 'wa xấu so với hình lại còn thiếu ví km nữa mất Khách ', 'tuyệt vời  sản phẩm đẹp bắt mắt mới đặt trưa hôm qua hôm nay đã có mới nên chưa biết bền không nhưng cảm nhận đầu là thấy ổn đó ', 'miêu tả đẹp hoành tráng lệ lắm khi nhận thì cảm thấy chỉ đc 1 sao', 'bốn sao  tốt ', '1 nhận hàng sớm hơn mong đợi 2 hàng rất ok 3 nhân viên giao hàng rất nhiệt tình 4 cảm ơn hệ thống ', 'năm sao tôi rất hài lòng về giá cả cũng như chất lượng hàng mà tôi đã mua ', 'túi bằng chất liệu da quá mềm k biết do túi như vậy hay do khâu đóng gói vận chuyển mà lúc nhận đc hàng cái túi nhăn nhàu gãy hết cả túi', 'năm sao  sản phẩm cực kì chất lượng cầm êm tay đường may tinh tế giao hàng nhanh ', 'năm sao  túi đeo rất đẹp da cũng là hàng chất lượng đó mình dùng vài tháng rồi có bị dính mưa dính nước mà da vẫn không sao rất hài lòng nhé ', 'tui xách  rất hài lòng cám ơn lzd ', 'tam duoc  ', 'hải lòng về sản phẩm  hàng giao nhanh hơn dự kiến túi giao như hình màu đậm hơn da mềm đường may đẹp có điều ví tặng kèm không ưng ý lắm góp ý với lazada không nên tặng kèm ví như vậy thay vì tặng kèm ví lazada có thể bớt tiền trên sp để tăng uy tín hoặc giá trị sp hàng dùng bền hay không thì chưa thể đánh giá được nhưng sp được bảo hành trọn đời thì ok ', 'tui dep hop gia tien  mau san pham dep da mem phia trong vai lot dep hop voi mau tui gia re so voi chat luong san pham nhan vien giao hang vui ve va nhiet tinh ', 'hài lòng  giao hàng nhanh sản phẩm nhận được đúng với mẫu giá thành vậy là ok ', 'san pham tot ung y mau dep gia ca hop ly toi rat hai long  haonguyen ', 'hài lòng về sản phẩm giao hàng free nhưng khá nhanh sản phẩm nhận được đúng mô tả chất liệu đẹp giá thành rẻ hài lòng', 'túi đeo chéo  khi nhấp chuột đặt mua túi với giá 125k lúc thanh toán mình nghĩ trong đầu túi rẻ vậy mua thử dùng tạm thôi chứ k hề nghĩ khi nhận được hàng lại cảm thấy ok đến như vậy các sản phẩm khác mình không biết như nào nhưng khi nhận đc túi đeo chéo này mình thấy hài lòng chất liệu ok chắc chắn và đeo rất hợp đến cả ông anh zai khó tính của mình còn nói là chất được đấy nói chung là quá hài lòng đi ', 'san pham tui cheo  hang duoc dong goi rat ky luong giao hang cung nhanh nua ve san pham thi minh rat ung y ', 'tốt  sp đẹp đúng như hình mình rất hài lòng ', 'rất đẹp  rất là ưng ý ạ ', 'túi xấu', 'hài lòg  rẻ đẹp ', 'được  minh moi nhan hang hom warat hai long ve gia ca va san pham ', 'chi  mình thích túi này vì với giá tiền để mua được túi da mềm và màu sắc giống hình thì rất hài lòng mình cũng thích sự nhanh chóng của việc giao hàng lazada cám ơn ', 'đẹp giao hàng nhanh  nhận đc sp nhanh hàng đẹp to hơn so với tưởng tượng da mềm đường may chắc màu da hơi nhạt so vs hình ', 'năm sao  giao hang nhanh sp rất ung y bền trong rất đẹp đuong chi chac chan ', 'rất tốt  túi giống y hình chất lượng cũng rất tốt mình rất hài lòng ', 'túi đẹp rất hài lòng ', 'mới nhận hàng xong giờ còn 70000 tiec wa', 'năm sao  hài lòng sản phẩm ', 'anh  ba sao  binh thuong ', 'sản phẩm đẹp giống với mô tả  chất lượng tốt so với tầm giá này thank lazada làm quà tặng rất ý nghĩa ', 'túi rẻ đẹp  túi đẹp chắc chắn dầy dặn kích thước vừa phải tiện dụng cho mình khi đi shopping ', 'bốn sao  hài lòng về sp ', 'good  good ', 'sản phẩm đúng mô tảgiao hàng nhanhgiá tốt  sản phẩm rất đúng mong đợigiá tốtlazada cần có thêm nhiều mặt hàng như vậy ', 'hi  duoc thoi chua như mong muốn ', 'tuyệt vời  sản phẩm như mô tả hàng chất lượng hi vọng shop sẽ luôn phục vụ và đáp ứng tốt nhu cầu chất lượng của mỗi sản phẩm hàng giá phải chăng tôi rất hài lòng về sản phẩm ', 'năm sao  sp rất đẹp ', 'hai long ve sp va dich vu cua lazada  tui xach dep gia re giao hang nhanh cam on lazada ', 'năm sao  hàng đẹprất hài lòng ', 'dep  dep ', 'hài lòng  sản phẩm đúng như hình mẫu da mềm kiểu dáng đẹp rất nên mua ', 'túi mỏng dởm nên rẻ thích hợp cho mấy bạn nhỏ đựng bút viết', 'tuyệt vời  mình và bạn mua 3 cái hàng đẹp đường chỉ đẹp da mềm giao đúng hẹn nói chung ok ', 'rất hài lòng  giao hàng đúng hẹn mình hài lòng với dịch vụ túi đeo nhận được giống mẫu rất đẹp kiểu dáng độc đáo mình rất hài lòng với sản phẩm này ', 'đẹp và rẻ  ', 'ba sao  ok ', 'tốt da dày đẹp giống trong hình ', 'ba sao  nhìn thấy ổn nhưng nữ sử dụng tiện lợi hơn ', 'chất liệu ko giống ảnh chất liệu là vải da lộn nhìn ko đẹp chút nào', 'đẹp giá ổn  rất tốt khi nhận sp vừa ý mong rằng time sử dụng lâu dài ', 'ok  theo nx của mình bề ngoài ok lòng trong hơi hẹp không rông rãi như mình nghĩ còn về chất lượng lâu dài mới biết vì mình đã từng sử dụng túi lata một lần bị tróc keo tùm lum tặng ox mà nghe chê quê hết sức ', 'tốt  da mềm túi đẹp mẫu ma giống hình ', 'ba sao  phù hợp cho teen da tốt ', 'hàng tốt  chất lượng cực kỳ tốt so vs giá tiền chất liệu đẹp đường may chắc chắn ', 'đoàn chất lượng tốt  sp đúng hãnggía rẻ hơn rất nhiều so với cửa hàng nhưng vẫn được bảo hànhda đẹp ', 'ok đẹp  ', 'tui dep  ', 'năm sao  tuyệt vời hơn cả mong đợi cám ơn shop ', 'đẹp  túi da đẹp dày dặn mình rất thích ', 'với giá đó thì sản phẩm ok  ', 'hài lòng  đẹp hài lòng với chiếc mẫu mã như mình đã xem trên hình rất giống bên trong có nhiều ngăn nhỏ đựng dụng cụ điện thoại chế độ bảo hành làm mình yên tâm giá chiếc túi cũng khá là hợp lý cảm ơn lazada ', 'nhảm nhí  hàng giá rẻ ghi thông tin k nói chất gì với giá như vậy chỉ có chất pu dùng vài hôm hỏng mua cho phí tiền ', 'ok lắm  giống như mô tả chất lượng tốt da rất tốt ', 'tốt  san phẩm nhu hình ', 'rất đẹp  sản phẩm giống hình da đẹp đường chỉ may chắc chắn bên trong lót lớp vải nhung rất đẹp nhận sản phẩm xong mình rất hài lòng và bạn bè đồng nghiệp đã nhờ mình mua đến 5 cái nữa mua cả 3 màu luôn sau khi mình mua sp này thì bạn mình đã tìm đến lazada để mua hàng rất nhiều ', 'năm sao  sản phẩn tốt so với giá ', 'bốn sao  mẫu mã hàng như hình giao hàng nhanh chóng chất da đẹp giá vừa túi tiền ', 'năm sao  ', 'tốt tôi rất hài lòng  sản phẩm đẹpda tốt lazada phục vụ rất tận tìnhgiao hàng nhanhcảm ơn nhân viên giao hàng nhé rất nhiệt tình ', 'hai sao  khi mua cái túi này đầu tiên cho chị hai mình thấy rất đẹp nên 1 năm sau mình đặt thêm 1 cái nữa nhưng cái thứ 2 mình nhận được kém xa cái đầu tiên mình mua da thì nhũn đường may thô không còn đẹp như trước kích thước cũng khác nhau cái túi mua sau lại trông cũ hơn cả cái túi trước mình rất thất vọng ', 'hài lòng  kích thước vừa phải dây đeo chắc chắn vải lót dày và êm giá thì quá là hạt dẻnói chung là quá hài lòng cám ơn lazada ', 'bốn sao  sp cũng đc nhưng nhìn thô quá hok kĩ và đẹp nhubg so với giá tiền thì sd đc ', 'nhăn nhoe xấu không như ý hơi thất vọng xấu', 'rất hài lòng  hình sao hàng vậy tks lazada nhiều ', 'bốn sao  da rất mềm mình rất thích cái giỏ xách này cảm ơn lazada ', 'năm sao  sản phẩm bên ngoài đẹp hơn trong hình ', 'năm sao  tôi hài lòng ', 'hai sao  tui nho so voi hinh tam duoc ', 'túi lata  túi dày chỉ may chắc chắn giao hàng đúng ngày hài lòng với sản phẩm ', 'giá tốt trước túi có chất lượng tốt so với đơn giá 99k tuy nhiên mùi da vẫn còn nồng đường may có mũi kim hơi dài', 'năm sao  túi da bò nhạt này đẹp hơn cái màu đậm đợt rồi mình mua đó mà sử dụng tốt nên mua thêm cho em mình một cái để dùng nói chung cũng được xài tốt ', 'túi nhìn trông thô nhỏ hơn tí nữa thì đẹp  ', 'hàng tốt  với giá này thì là quá tốttúi hoàn thiện cũng đẹpđường may chắc chắn ', 'sp dep  sp dep duong chi may chac chan ', 'rất rẻ  rất tốt ', 'năm sao  túi đẹp giống hình mình thích cái ví quà tặng hơn cảm ơn lazada nhe ', 'hang y hinh  ok ', 'năm sao  tôi hài lòng ', 'tot  tot ', 'hàng ok  túi đẹp giao hàng nhanh nhân viên nhiệt tình mình sẽ tiếp tục ủng hộ ', 'năm sao  túi này đeo gọn gàng mà tiện lợi lắm đựng được nhiều món đồ cần thiết hằng ngày để mang đi mà lấy ra bỏ vô đều rất là nhanh đã vậy còn được tặng ví cầm tay nữa cả 2 cái đều dùng rất là ok ', 'túi đẹp da dầy dặn quá tốt so với giá  ', 'năm sao 1 năm trước rất hài lòng sp giốn hình giao hàng nhanh giá hợp lý rất ok ', 'rẻ đẹp  da mềm mẫu mã như hình đường may ok giá rẻ ', 'good  ', 'sp tạm dc ', 'năm sao  rất đẹp ', 'màu da xấu hơn trong hìnhchất da khá ổn  ', 'năm sao  sản phẩm giống hình chất liệu da và đường may ok tôi thật sự rất hài lòng với sản phẩm của lata ', 'chat luong tot  ', 'năm sao  túi y hìnhda mềmhơp túi tiềngiao hàng nhanhủng hộ lazada ', 'rẻ đẹp  mình mua đúng hôm giảm còn 99k nay nhận hàng rất là ưng luôn ý ', 'sản phẩm tốt  sản phẩm tốt ', 'đánh giá sản phẩm  nhìn chung thì lazada cũg nổi tiếng từ lâu r mình cảm thấy yên tâm khi mua hàg về phần sản phẩm thì ok hàg y hình chất lượng tốt mong rằg cty tiếp tục pt']\n"
          ]
        }
      ]
    },
    {
      "cell_type": "code",
      "source": [
        "from sklearn.metrics import confusion_matrix,ConfusionMatrixDisplay,accuracy_score\n",
        "import random\n",
        "\n",
        "label_check = labelc\n",
        "text_check = textc\n",
        "\n",
        "y_true = []\n",
        "y_pred = []\n",
        "\n",
        "for x in range(0,len(text_check)):\n",
        "  y_true.append(label_check[x])\n",
        "  y_pred.append(prediction(text_check[x], my_tokenizer, my_model))\n",
        "\n",
        "print(y_true)\n",
        "print(y_pred)\n",
        "\n",
        "cm_pred = confusion_matrix(y_true, y_pred, labels=[1, 2, 3, 4, 5])\n",
        "Matrix = ConfusionMatrixDisplay(cm_pred, display_labels=[1, 2, 3, 4, 5])\n",
        "\n",
        "Matrix.plot()\n",
        "\n",
        "plt.show()\n",
        "print(\"Accuracy: \",accuracy_score(y_true,y_pred))\n",
        "sum = 0\n",
        "for x in range(0,len(y_true)):\n",
        "  sum += abs(y_true[x] - y_pred[x])\n",
        "print(\"Độ lệch trung bình: \", sum*1.0/len(y_true))"
      ],
      "metadata": {
        "colab": {
          "base_uri": "https://localhost:8080/",
          "height": 368
        },
        "id": "X2qqU5YqIYzV",
        "outputId": "8f82bf08-40f0-475a-c799-c85ad836e53d"
      },
      "execution_count": 90,
      "outputs": [
        {
          "output_type": "stream",
          "name": "stdout",
          "text": [
            "[5, 4, 5, 5, 5, 5, 5, 3, 5, 4, 5, 4, 5, 3, 5, 5, 1, 5, 5, 5, 4, 5, 3, 5, 5, 5, 4, 5, 5, 1, 5, 5, 5, 3, 5, 5, 1, 5, 4, 1, 3, 3, 5, 5, 1, 1, 4, 3, 4, 5, 5, 4, 4, 5, 5, 4, 1, 5, 4, 5, 4, 5, 4, 3, 5, 5, 5, 5, 1, 5, 4, 4, 2, 5, 5, 5, 3, 1, 2, 3, 3, 2, 4, 4, 1, 5, 4, 3, 5, 3, 5, 5, 3, 5, 5, 3, 4, 4, 4, 5, 5, 3, 3, 3, 3, 5, 5, 5, 5, 4, 5, 5, 5, 4, 5, 5, 5, 5, 5, 5, 4, 3, 5, 5, 1, 1, 5, 5, 4, 5, 5, 4, 5, 2, 4, 5, 1, 2, 5, 4, 5, 5, 4, 5, 3, 2, 4, 5, 5, 4, 5, 1, 4, 5, 1, 5, 5, 3, 5, 5, 5, 5, 5, 4, 5, 5, 5, 5, 5, 5, 5, 4, 5, 4, 5, 4, 1, 4, 4, 5, 5, 5, 3, 4, 4, 3, 5, 4, 4, 5, 4, 5, 2, 1, 5, 2, 5, 5, 4, 1, 5, 5, 1, 3, 5, 5, 3, 4, 5, 5, 4, 5, 5, 4, 4, 5, 5, 4, 5, 5, 3, 4, 1, 5, 5, 5, 5, 4, 5, 4, 5, 3, 3, 4, 5, 5, 5, 5, 4, 4, 5, 1, 2, 5, 4, 5, 5, 4, 5, 5, 5, 1, 4, 4, 4, 3, 5, 5, 4, 4, 4, 5, 5, 4, 5, 5, 4, 4, 5, 4, 3, 4, 4, 5, 5, 5, 3, 3, 4, 4, 4, 5, 5, 5, 3, 4, 5, 5, 4, 4, 5, 5, 5, 4, 5, 4, 4, 4, 5, 4, 5, 4, 3, 5, 4, 5, 5, 5, 4, 5, 5, 5, 5, 5, 5, 5, 4, 4, 5, 3, 5, 5, 5, 4, 5, 5, 5, 5, 5, 5, 4, 5, 5, 5, 5, 4, 5, 4, 3, 5, 5, 3, 5, 5, 3, 5, 5, 5, 4, 4, 5, 5, 3, 5, 3, 3, 5, 4, 5, 3, 5, 3, 5, 3, 5, 4, 5, 3, 5, 5, 3, 5, 5, 5, 5, 2, 5, 3, 4, 4, 1, 5, 4, 4, 4, 1, 5, 4, 5, 5, 3, 5, 5, 5, 1, 5, 1, 4, 5, 5, 2, 5, 5, 5, 3, 4, 5, 4, 5, 5, 3, 5, 5, 5, 1, 5, 4, 4, 4, 5, 3, 5, 2, 5, 3, 5, 5, 4, 5, 5, 3, 5, 5, 5, 5, 4, 5, 1, 5, 4, 5, 3, 4, 3, 1, 5, 4, 5, 3, 5, 5, 5, 3, 5, 5, 4, 4, 1, 5, 5, 5, 5, 4, 5, 5, 2, 5, 4, 1, 5, 4, 5, 5, 2, 5, 4, 5, 3, 5, 5, 5, 5, 5, 5, 5, 5, 5, 5, 5, 5, 5, 3, 5, 3, 5, 5, 5, 5, 4, 4]\n",
            "[5, 4, 5, 5, 5, 5, 5, 5, 5, 5, 5, 4, 5, 3, 5, 5, 4, 5, 5, 5, 5, 5, 5, 5, 5, 5, 4, 5, 5, 3, 5, 5, 5, 5, 5, 5, 1, 5, 4, 1, 3, 5, 5, 5, 1, 1, 4, 5, 1, 5, 5, 5, 4, 5, 5, 4, 1, 5, 5, 5, 4, 5, 5, 3, 5, 5, 5, 5, 1, 5, 5, 5, 4, 5, 5, 5, 3, 1, 5, 5, 5, 3, 5, 5, 3, 5, 4, 3, 5, 4, 5, 5, 3, 5, 5, 3, 5, 5, 5, 5, 5, 3, 3, 3, 3, 5, 5, 5, 5, 5, 5, 5, 5, 4, 5, 5, 5, 5, 5, 5, 5, 5, 5, 5, 1, 1, 5, 5, 5, 5, 5, 4, 5, 4, 3, 5, 1, 3, 5, 4, 5, 5, 5, 5, 5, 2, 4, 5, 5, 5, 5, 3, 5, 5, 1, 5, 5, 3, 5, 5, 5, 5, 5, 4, 5, 5, 5, 5, 5, 5, 5, 4, 5, 5, 5, 4, 5, 4, 5, 5, 5, 5, 3, 4, 5, 5, 5, 3, 5, 5, 4, 5, 2, 1, 5, 1, 5, 5, 5, 3, 5, 5, 1, 4, 5, 5, 5, 4, 5, 5, 5, 5, 5, 4, 4, 5, 5, 4, 5, 5, 3, 5, 3, 5, 5, 4, 5, 4, 5, 5, 5, 3, 3, 4, 5, 5, 5, 5, 4, 4, 5, 1, 4, 5, 4, 5, 5, 4, 5, 5, 5, 4, 4, 4, 5, 3, 5, 5, 5, 5, 5, 4, 5, 4, 5, 4, 4, 4, 5, 5, 3, 5, 5, 5, 5, 5, 3, 3, 4, 5, 4, 5, 5, 5, 3, 4, 5, 5, 5, 4, 5, 5, 5, 5, 5, 1, 5, 4, 5, 5, 4, 5, 5, 5, 5, 5, 5, 5, 4, 5, 5, 5, 5, 5, 5, 5, 4, 5, 5, 3, 5, 5, 5, 4, 5, 4, 5, 5, 5, 5, 5, 4, 5, 5, 5, 4, 5, 5, 3, 5, 5, 5, 5, 5, 5, 5, 5, 5, 5, 5, 5, 5, 3, 5, 3, 5, 5, 5, 5, 3, 5, 3, 5, 4, 5, 5, 5, 5, 5, 5, 3, 5, 5, 5, 5, 1, 5, 3, 4, 5, 5, 5, 5, 4, 5, 3, 5, 5, 5, 5, 3, 5, 5, 5, 1, 5, 1, 4, 5, 5, 3, 5, 5, 5, 3, 5, 5, 5, 5, 5, 5, 5, 5, 5, 1, 5, 5, 5, 5, 5, 5, 5, 1, 5, 3, 5, 5, 4, 5, 5, 3, 5, 5, 5, 5, 5, 5, 4, 5, 5, 5, 3, 5, 3, 1, 5, 4, 5, 3, 5, 5, 5, 5, 5, 5, 4, 5, 1, 5, 5, 5, 5, 4, 5, 5, 2, 5, 4, 1, 5, 4, 5, 5, 2, 5, 4, 5, 4, 5, 5, 5, 5, 5, 5, 5, 5, 5, 5, 5, 5, 5, 3, 5, 4, 5, 5, 5, 5, 5, 5]\n"
          ]
        },
        {
          "output_type": "display_data",
          "data": {
            "text/plain": [
              "<Figure size 432x288 with 2 Axes>"
            ],
            "image/png": "[encoded data removed]"
          },
          "metadata": {
            "needs_background": "light"
          }
        },
        {
          "output_type": "stream",
          "name": "stdout",
          "text": [
            "Accuracy:  0.766\n",
            "Độ lệch trung bình:  0.326\n"
          ]
        }
      ]
    },
    {
      "cell_type": "code",
      "execution_count": null,
      "metadata": {
        "id": "S463gA5UAt3-"
      },
      "outputs": [],
      "source": [
        "with open('/content/pred_file.txt') as pred_file:\n",
        "  text_pred_pre = pred_file.read()\n",
        "\n",
        "text_pred_pre = text_pred_pre.split('\\n')\n",
        "text_pred = []\n",
        "for x in text_pred_pre:\n",
        "  text_pred.append(x[2:-1])\n",
        "\n",
        "print(text_pred)\n",
        "\n",
        "for x in range(0,len(text_pred)):\n",
        "  print(str((prediction(text_pred[x], my_tokenizer, my_model))),text_pred_pre[x])\n"
      ]
    },
    {
      "cell_type": "code",
      "source": [
        "with open('/content/test.txt') as testfile:\n",
        "  testdata = testfile.read()\n",
        "\n",
        "datatest = testdata.split('\\n')\n",
        "texttest = []\n",
        "for x in datatest:\n",
        "  texttest.append(x[3:])\n",
        "\n",
        "with open('result.txt','w') as wf:\n",
        "  for x in texttest:\n",
        "    rate = prediction(x, my_tokenizer, my_model)\n",
        "    wf.write(str(rate)+' '+x+'\\n')"
      ],
      "metadata": {
        "id": "mAFp1lDY8hw-"
      },
      "execution_count": 91,
      "outputs": []
    }
  ],
  "metadata": {
    "accelerator": "GPU",
    "colab": {
      "collapsed_sections": [],
      "name": "CNN_biLSTM.ipynb",
      "provenance": []
    },
    "kernelspec": {
      "display_name": "Python 3",
      "name": "python3"
    },
    "language_info": {
      "name": "python"
    },
    "gpuClass": "standard"
  },
  "nbformat": 4,
  "nbformat_minor": 0
}