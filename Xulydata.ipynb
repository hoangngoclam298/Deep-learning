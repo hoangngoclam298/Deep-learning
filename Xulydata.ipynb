{
  "nbformat": 4,
  "nbformat_minor": 0,
  "metadata": {
    "colab": {
      "name": "Xulydata.ipynb",
      "provenance": [],
      "collapsed_sections": []
    },
    "kernelspec": {
      "name": "python3",
      "display_name": "Python 3"
    },
    "language_info": {
      "name": "python"
    },
    "accelerator": "GPU",
    "gpuClass": "standard"
  },
  "cells": [
    {
      "cell_type": "code",
      "execution_count": null,
      "metadata": {
        "colab": {
          "base_uri": "https://localhost:8080/"
        },
        "id": "EWZZqF5JoxRl",
        "outputId": "7fe0d403-a837-4bb5-c00b-0ebaaa0804ef"
      },
      "outputs": [
        {
          "output_type": "stream",
          "name": "stdout",
          "text": [
            "Looking in indexes: https://pypi.org/simple, https://us-python.pkg.dev/colab-wheels/public/simple/\n",
            "Collecting pyvi\n",
            "  Downloading pyvi-0.1.1-py2.py3-none-any.whl (8.5 MB)\n",
            "\u001b[K     |████████████████████████████████| 8.5 MB 8.4 MB/s \n",
            "\u001b[?25hRequirement already satisfied: scikit-learn in /usr/local/lib/python3.7/dist-packages (from pyvi) (1.0.2)\n",
            "Collecting sklearn-crfsuite\n",
            "  Downloading sklearn_crfsuite-0.3.6-py2.py3-none-any.whl (12 kB)\n",
            "Requirement already satisfied: threadpoolctl>=2.0.0 in /usr/local/lib/python3.7/dist-packages (from scikit-learn->pyvi) (3.1.0)\n",
            "Requirement already satisfied: scipy>=1.1.0 in /usr/local/lib/python3.7/dist-packages (from scikit-learn->pyvi) (1.4.1)\n",
            "Requirement already satisfied: joblib>=0.11 in /usr/local/lib/python3.7/dist-packages (from scikit-learn->pyvi) (1.1.0)\n",
            "Requirement already satisfied: numpy>=1.14.6 in /usr/local/lib/python3.7/dist-packages (from scikit-learn->pyvi) (1.21.6)\n",
            "Collecting python-crfsuite>=0.8.3\n",
            "  Downloading python_crfsuite-0.9.8-cp37-cp37m-manylinux_2_17_x86_64.manylinux2014_x86_64.whl (965 kB)\n",
            "\u001b[K     |████████████████████████████████| 965 kB 58.3 MB/s \n",
            "\u001b[?25hRequirement already satisfied: tqdm>=2.0 in /usr/local/lib/python3.7/dist-packages (from sklearn-crfsuite->pyvi) (4.64.0)\n",
            "Requirement already satisfied: tabulate in /usr/local/lib/python3.7/dist-packages (from sklearn-crfsuite->pyvi) (0.8.9)\n",
            "Requirement already satisfied: six in /usr/local/lib/python3.7/dist-packages (from sklearn-crfsuite->pyvi) (1.15.0)\n",
            "Installing collected packages: python-crfsuite, sklearn-crfsuite, pyvi\n",
            "Successfully installed python-crfsuite-0.9.8 pyvi-0.1.1 sklearn-crfsuite-0.3.6\n"
          ]
        }
      ],
      "source": [
        "!pip install pyvi\n",
        "import numpy as np\n",
        "import tensorflow as tf\n",
        "import pickle\n",
        "import matplotlib.pyplot as plt\n",
        "from sklearn.model_selection import train_test_split\n",
        "import tensorflow.keras.layers\n",
        "from tensorflow.keras.layers import Embedding, Dense, Dropout, Bidirectional, LSTM, GRU, Input, GlobalMaxPooling1D, LayerNormalization, Conv1D, MaxPooling1D\n",
        "from tensorflow.keras.optimizers import Adam, SGD\n",
        "from tensorflow.keras import Sequential\n",
        "from tensorflow.keras.models import load_model\n",
        "from tensorflow.keras.preprocessing.text import Tokenizer\n",
        "from tensorflow.keras.preprocessing.sequence import pad_sequences\n",
        "from pyvi import ViTokenizer\n",
        "from pyvi import ViUtils\n",
        "import pandas as pd\n",
        "import regex as re\n",
        "import random as rd"
      ]
    },
    {
      "cell_type": "code",
      "source": [
        "datafile = pd.read_csv('/content/drive/MyDrive/Colab Notebooks/Data/tiki-train.csv')\n",
        "\n",
        "data = pd.DataFrame({'label':datafile['ratings'], 'text':datafile['discriptions']})\n",
        "data = data.dropna()\n",
        "data = data.reset_index(drop=True)\n",
        "print('Data bình luận:\\n\\n', data)"
      ],
      "metadata": {
        "colab": {
          "base_uri": "https://localhost:8080/"
        },
        "id": "-yvQBQkepDtU",
        "outputId": "6f59cc0a-5894-4f3a-e1c9-966efba75a96"
      },
      "execution_count": null,
      "outputs": [
        {
          "output_type": "stream",
          "name": "stdout",
          "text": [
            "Data bình luận:\n",
            "\n",
            "         label                                               text\n",
            "0           5  tiki giao hàng nhanh đóng gói cần thận nhân vi...\n",
            "1           1  tôi mua nó để chơi game để không làm phiền ngư...\n",
            "2           4  ổn chất lượng sẽ theo thời gian trả lời bây gi...\n",
            "3           5  sản phẩm dùng tốt chất lượng đường hàn đẹp rất...\n",
            "4           5  mình rất hài lòng với sản phẩm này và dịch vụ ...\n",
            "...       ...                                                ...\n",
            "321603      5                                          đúng loại\n",
            "321604      3  giao hàng tre 1ngay hàng tốt giá rẻ cảm ơn cty...\n",
            "321605      1  san pham mua ve vua mong lai co mot cai thao l...\n",
            "321606      4  sách hay thật và đọc cuốn thật như những nhận ...\n",
            "321607      5  dây dày dặn chắc chắn đóng gói đẹp mình ở hn đ...\n",
            "\n",
            "[321608 rows x 2 columns]\n"
          ]
        }
      ]
    },
    {
      "cell_type": "code",
      "source": [
        "print('Số lượng: ',len(data))\n",
        "\n",
        "text = data['text'].values\n",
        "label = data['label'].values\n",
        "\n",
        "size_label = {1:0, 2:0, 3:0, 4:0, 5:0}\n",
        "\n",
        "for x in range(0, len(label)):\n",
        "  size_label[label[x]] +=1\n",
        "\n",
        "print('Phân bố dữ liệu: ',size_label,'\\n')\n",
        "\n",
        "x=np.array([1,2,3,4,5])\n",
        "y=np.array([size_label[1],size_label[2],size_label[3],size_label[4],size_label[5]])\n",
        "plt.bar(x,y)\n",
        "plt.show()"
      ],
      "metadata": {
        "id": "ZoAW0YVY3HHj",
        "colab": {
          "base_uri": "https://localhost:8080/",
          "height": 317
        },
        "outputId": "7ad281bf-7b3a-489f-fa40-891e21dfa0a2"
      },
      "execution_count": null,
      "outputs": [
        {
          "output_type": "stream",
          "name": "stdout",
          "text": [
            "Số lượng:  321608\n",
            "Phân bố dữ liệu:  {1: 28295, 2: 14731, 3: 27463, 4: 56920, 5: 194199} \n",
            "\n"
          ]
        },
        {
          "output_type": "display_data",
          "data": {
            "text/plain": [
              "<Figure size 432x288 with 1 Axes>"
            ],
            "image/png": "[encoded data removed]"
          },
          "metadata": {
            "needs_background": "light"
          }
        }
      ]
    },
    {
      "cell_type": "markdown",
      "source": [
        ""
      ],
      "metadata": {
        "id": "9eRk2S38ENQX"
      }
    },
    {
      "cell_type": "code",
      "source": [
        "with open('/content/drive/MyDrive/Colab Notebooks/Data/train.txt') as checkfile:\n",
        "  checkdata = checkfile.read()\n",
        "\n",
        "datac = checkdata.split('\\n')\n",
        "labelc = []\n",
        "textc = []\n",
        "for x in datac:\n",
        "  labelc.append(int(x[0]))\n",
        "  textc.append(x[2:])\n",
        "\n",
        "print('Số lượng: ',len(labelc))\n",
        "size_labelc = {1:0, 2:0, 3:0, 4:0, 5:0}\n",
        "for x in range(0, len(labelc)):\n",
        "  size_labelc[labelc[x]] +=1\n",
        "\n",
        "print('Phân bố dữ liệu: ',size_labelc,'\\n')\n",
        "x=np.array([1,2,3,4,5])\n",
        "y=np.array([size_labelc[1],size_labelc[2],size_labelc[3],size_labelc[4],size_labelc[5]])\n",
        "plt.bar(x,y)\n",
        "plt.show()"
      ],
      "metadata": {
        "colab": {
          "base_uri": "https://localhost:8080/",
          "height": 317
        },
        "id": "mRX14g38Kmeb",
        "outputId": "0a41e936-9240-4f3c-a1ee-33ed0f5e0120"
      },
      "execution_count": null,
      "outputs": [
        {
          "output_type": "stream",
          "name": "stdout",
          "text": [
            "Số lượng:  500\n",
            "Phân bố dữ liệu:  {1: 31, 2: 14, 3: 61, 4: 119, 5: 275} \n",
            "\n"
          ]
        },
        {
          "output_type": "display_data",
          "data": {
            "text/plain": [
              "<Figure size 432x288 with 1 Axes>"
            ],
            "image/png": "[encoded data removed]"
          },
          "metadata": {
            "needs_background": "light"
          }
        }
      ]
    },
    {
      "cell_type": "code",
      "source": [
        "with open ('/content/drive/MyDrive/Colab Notebooks/Data/teencode.txt') as tcfile:\n",
        "  teencodefile = tcfile.read()\n",
        "\n",
        "teencodedata = teencodefile.split('\\n')\n",
        "teencode = {}\n",
        "for x in range(0,len(teencodedata)):\n",
        "  tmp = teencodedata[x].split('\\t')\n",
        "  teencode[tmp[0]] = tmp[1]\n",
        "\n",
        "#print('Danh sách teencode:', teencode)\n",
        "\n",
        "with open ('/content/drive/MyDrive/Colab Notebooks/Data/dict_VN.txt') as dictfile:\n",
        "  dict_vn = dictfile.read()\n",
        "dict_VN = dict_vn.split('\\n')\n",
        "for x in range(0,len(dict_VN)):\n",
        "  dict_VN[x]=dict_VN[x].lower()\n",
        "dict_VN.sort()"
      ],
      "metadata": {
        "id": "7vewppNMRIGu"
      },
      "execution_count": null,
      "outputs": []
    },
    {
      "cell_type": "code",
      "source": [
        "uniChars = \"àáảãạâầấẩẫậăằắẳẵặèéẻẽẹêềếểễệđìíỉĩịòóỏõọôồốổỗộơờớởỡợùúủũụưừứửữựỳýỷỹỵÀÁẢÃẠÂẦẤẨẪẬĂẰẮẲẴẶÈÉẺẼẸÊỀẾỂỄỆĐÌÍỈĨỊÒÓỎÕỌÔỒỐỔỖỘƠỜỚỞỠỢÙÚỦŨỤƯỪỨỬỮỰỲÝỶỸỴÂĂĐÔƠƯ\"\n",
        "unsignChars = \"aaaaaaaaaaaaaaaaaeeeeeeeeeeediiiiiooooooooooooooooouuuuuuuuuuuyyyyyAAAAAAAAAAAAAAAAAEEEEEEEEEEEDIIIOOOOOOOOOOOOOOOOOOOUUUUUUUUUUUYYYYYAADOOU\"\n",
        " \n",
        "def loaddicchar():\n",
        "    dic = {}\n",
        "    char1252 = 'à|á|ả|ã|ạ|ầ|ấ|ẩ|ẫ|ậ|ằ|ắ|ẳ|ẵ|ặ|è|é|ẻ|ẽ|ẹ|ề|ế|ể|ễ|ệ|ì|í|ỉ|ĩ|ị|ò|ó|ỏ|õ|ọ|ồ|ố|ổ|ỗ|ộ|ờ|ớ|ở|ỡ|ợ|ù|ú|ủ|ũ|ụ|ừ|ứ|ử|ữ|ự|ỳ|ý|ỷ|ỹ|ỵ|À|Á|Ả|Ã|Ạ|Ầ|Ấ|Ẩ|Ẫ|Ậ|Ằ|Ắ|Ẳ|Ẵ|Ặ|È|É|Ẻ|Ẽ|Ẹ|Ề|Ế|Ể|Ễ|Ệ|Ì|Í|Ỉ|Ĩ|Ị|Ò|Ó|Ỏ|Õ|Ọ|Ồ|Ố|Ổ|Ỗ|Ộ|Ờ|Ớ|Ở|Ỡ|Ợ|Ù|Ú|Ủ|Ũ|Ụ|Ừ|Ứ|Ử|Ữ|Ự|Ỳ|Ý|Ỷ|Ỹ|Ỵ'.split(\n",
        "        '|')\n",
        "    charutf8 = \"à|á|ả|ã|ạ|ầ|ấ|ẩ|ẫ|ậ|ằ|ắ|ẳ|ẵ|ặ|è|é|ẻ|ẽ|ẹ|ề|ế|ể|ễ|ệ|ì|í|ỉ|ĩ|ị|ò|ó|ỏ|õ|ọ|ồ|ố|ổ|ỗ|ộ|ờ|ớ|ở|ỡ|ợ|ù|ú|ủ|ũ|ụ|ừ|ứ|ử|ữ|ự|ỳ|ý|ỷ|ỹ|ỵ|À|Á|Ả|Ã|Ạ|Ầ|Ấ|Ẩ|Ẫ|Ậ|Ằ|Ắ|Ẳ|Ẵ|Ặ|È|É|Ẻ|Ẽ|Ẹ|Ề|Ế|Ể|Ễ|Ệ|Ì|Í|Ỉ|Ĩ|Ị|Ò|Ó|Ỏ|Õ|Ọ|Ồ|Ố|Ổ|Ỗ|Ộ|Ờ|Ớ|Ở|Ỡ|Ợ|Ù|Ú|Ủ|Ũ|Ụ|Ừ|Ứ|Ử|Ữ|Ự|Ỳ|Ý|Ỷ|Ỹ|Ỵ\".split(\n",
        "        '|')\n",
        "    for i in range(len(char1252)):\n",
        "        dic[char1252[i]] = charutf8[i]\n",
        "    return dic\n",
        "dicchar = loaddicchar()\n",
        "\n",
        "# Hàm chuyển Unicode dựng sẵn về Unicde tổ hợp (phổ biến hơn)\n",
        "def convert_unicode(txt):\n",
        "    return re.sub(\n",
        "        r'à|á|ả|ã|ạ|ầ|ấ|ẩ|ẫ|ậ|ằ|ắ|ẳ|ẵ|ặ|è|é|ẻ|ẽ|ẹ|ề|ế|ể|ễ|ệ|ì|í|ỉ|ĩ|ị|ò|ó|ỏ|õ|ọ|ồ|ố|ổ|ỗ|ộ|ờ|ớ|ở|ỡ|ợ|ù|ú|ủ|ũ|ụ|ừ|ứ|ử|ữ|ự|ỳ|ý|ỷ|ỹ|ỵ|À|Á|Ả|Ã|Ạ|Ầ|Ấ|Ẩ|Ẫ|Ậ|Ằ|Ắ|Ẳ|Ẵ|Ặ|È|É|Ẻ|Ẽ|Ẹ|Ề|Ế|Ể|Ễ|Ệ|Ì|Í|Ỉ|Ĩ|Ị|Ò|Ó|Ỏ|Õ|Ọ|Ồ|Ố|Ổ|Ỗ|Ộ|Ờ|Ớ|Ở|Ỡ|Ợ|Ù|Ú|Ủ|Ũ|Ụ|Ừ|Ứ|Ử|Ữ|Ự|Ỳ|Ý|Ỷ|Ỹ|Ỵ',\n",
        "        lambda x: dicchar[x.group()], txt)\n",
        "\n",
        "bang_nguyen_am = [['a', 'à', 'á', 'ả', 'ã', 'ạ', 'a'],\n",
        "                  ['ă', 'ằ', 'ắ', 'ẳ', 'ẵ', 'ặ', 'aw'],\n",
        "                  ['â', 'ầ', 'ấ', 'ẩ', 'ẫ', 'ậ', 'aa'],\n",
        "                  ['e', 'è', 'é', 'ẻ', 'ẽ', 'ẹ', 'e'],\n",
        "                  ['ê', 'ề', 'ế', 'ể', 'ễ', 'ệ', 'ee'],\n",
        "                  ['i', 'ì', 'í', 'ỉ', 'ĩ', 'ị', 'i'],\n",
        "                  ['o', 'ò', 'ó', 'ỏ', 'õ', 'ọ', 'o'],\n",
        "                  ['ô', 'ồ', 'ố', 'ổ', 'ỗ', 'ộ', 'oo'],\n",
        "                  ['ơ', 'ờ', 'ớ', 'ở', 'ỡ', 'ợ', 'ow'],\n",
        "                  ['u', 'ù', 'ú', 'ủ', 'ũ', 'ụ', 'u'],\n",
        "                  ['ư', 'ừ', 'ứ', 'ử', 'ữ', 'ự', 'uw'],\n",
        "                  ['y', 'ỳ', 'ý', 'ỷ', 'ỹ', 'ỵ', 'y']]\n",
        "bang_ky_tu_dau = ['', 'f', 's', 'r', 'x', 'j']\n",
        "\n",
        "nguyen_am_to_ids = {}\n",
        "\n",
        "for i in range(len(bang_nguyen_am)):\n",
        "    for j in range(len(bang_nguyen_am[i]) - 1):\n",
        "        nguyen_am_to_ids[bang_nguyen_am[i][j]] = (i, j)\n",
        "\n",
        "def chuan_hoa_dau_tu_tieng_viet(word):\n",
        "    if not is_valid_vietnam_word(word):\n",
        "        return word\n",
        "    chars = list(word)\n",
        "    while(len(chars)>1):\n",
        "      if(chars[-1] == chars[-2]):\n",
        "        del chars[-1]\n",
        "      else:\n",
        "        break\n",
        "    dau_cau = 0\n",
        "    nguyen_am_index = []\n",
        "    qu_or_gi = False\n",
        "    for index, char in enumerate(chars):\n",
        "        x, y = nguyen_am_to_ids.get(char, (-1, -1))\n",
        "        if x == -1:\n",
        "            continue\n",
        "        elif x == 9:  # check qu\n",
        "            if index != 0 and chars[index - 1] == 'q':\n",
        "                chars[index] = 'u'\n",
        "                qu_or_gi = True\n",
        "        elif x == 5:  # check gi\n",
        "            if index != 0 and chars[index - 1] == 'g':\n",
        "                chars[index] = 'i'\n",
        "                qu_or_gi = True\n",
        "        if y != 0:\n",
        "            dau_cau = y\n",
        "            chars[index] = bang_nguyen_am[x][0]\n",
        "        if not qu_or_gi or index != 1:\n",
        "            nguyen_am_index.append(index)\n",
        "    if len(nguyen_am_index) < 2:\n",
        "        if qu_or_gi:\n",
        "            if len(chars) == 2:\n",
        "                x, y = nguyen_am_to_ids.get(chars[1])\n",
        "                chars[1] = bang_nguyen_am[x][dau_cau]\n",
        "            else:\n",
        "                x, y = nguyen_am_to_ids.get(chars[2], (-1, -1))\n",
        "                if x != -1:\n",
        "                    chars[2] = bang_nguyen_am[x][dau_cau]\n",
        "                else:\n",
        "                    chars[1] = bang_nguyen_am[5][dau_cau] if chars[1] == 'i' else bang_nguyen_am[9][dau_cau]\n",
        "            return ''.join(chars)\n",
        "        return word\n",
        "\n",
        "    for index in nguyen_am_index:\n",
        "        x, y = nguyen_am_to_ids[chars[index]]\n",
        "        if x == 4 or x == 8:  # ê, ơ\n",
        "            chars[index] = bang_nguyen_am[x][dau_cau]\n",
        "            # for index2 in nguyen_am_index:\n",
        "            #     if index2 != index:\n",
        "            #         x, y = nguyen_am_to_ids[chars[index]]\n",
        "            #         chars[index2] = bang_nguyen_am[x][0]\n",
        "            return ''.join(chars)\n",
        "\n",
        "    if len(nguyen_am_index) == 2:\n",
        "        if nguyen_am_index[-1] == len(chars) - 1:\n",
        "            x, y = nguyen_am_to_ids[chars[nguyen_am_index[0]]]\n",
        "            chars[nguyen_am_index[0]] = bang_nguyen_am[x][dau_cau]\n",
        "            # x, y = nguyen_am_to_ids[chars[nguyen_am_index[1]]]\n",
        "            # chars[nguyen_am_index[1]] = bang_nguyen_am[x][0]\n",
        "        else:\n",
        "            # x, y = nguyen_am_to_ids[chars[nguyen_am_index[0]]]\n",
        "            # chars[nguyen_am_index[0]] = bang_nguyen_am[x][0]\n",
        "            x, y = nguyen_am_to_ids[chars[nguyen_am_index[1]]]\n",
        "            chars[nguyen_am_index[1]] = bang_nguyen_am[x][dau_cau]\n",
        "    else:\n",
        "        # x, y = nguyen_am_to_ids[chars[nguyen_am_index[0]]]\n",
        "        # chars[nguyen_am_index[0]] = bang_nguyen_am[x][0]\n",
        "        x, y = nguyen_am_to_ids[chars[nguyen_am_index[1]]]\n",
        "        chars[nguyen_am_index[1]] = bang_nguyen_am[x][dau_cau]\n",
        "        # x, y = nguyen_am_to_ids[chars[nguyen_am_index[2]]]\n",
        "        # chars[nguyen_am_index[2]] = bang_nguyen_am[x][0]\n",
        "    return ''.join(chars)\n",
        "\n",
        "\n",
        "def is_valid_vietnam_word(word):\n",
        "    chars = list(word)\n",
        "    nguyen_am_index = -1\n",
        "    for index, char in enumerate(chars):\n",
        "        x, y = nguyen_am_to_ids.get(char, (-1, -1))\n",
        "        if x != -1:\n",
        "            if nguyen_am_index == -1:\n",
        "                nguyen_am_index = index\n",
        "            else:\n",
        "                if index - nguyen_am_index != 1:\n",
        "                    return False\n",
        "                nguyen_am_index = index\n",
        "    return True\n",
        "\n",
        "\n",
        "def chuan_hoa_dau_cau_tieng_viet(sentence):\n",
        "    sentence = sentence.lower()\n",
        "    words = sentence.split()\n",
        "    for index, word in enumerate(words):\n",
        "        cw = re.sub(r'(^\\p{P}*)([p{L}.]*\\p{L}+)(\\p{P}*$)', r'\\1/\\2/\\3', word).split('/')\n",
        "        # print(cw)\n",
        "        if len(cw) == 3:\n",
        "            cw[1] = chuan_hoa_dau_tu_tieng_viet(cw[1])\n",
        "        words[index] = ''.join(cw)\n",
        "    return ' '.join(words)\n",
        "\n",
        "def remove_html(txt):\n",
        "    return re.sub(r'<[^>]*>', '', txt)\n",
        "\n",
        "def text_preprocess(document):\n",
        "    # xóa html code\n",
        "    document = remove_html(document)\n",
        "    # chuẩn hóa unicode\n",
        "    document = convert_unicode(document)\n",
        "    # chuẩn hóa cách gõ dấu tiếng Việt\n",
        "    document = chuan_hoa_dau_cau_tieng_viet(document)\n",
        "    # đưa về lower\n",
        "    document = document.lower()\n",
        "    # xóa các ký tự không cần thiết\n",
        "    document = re.sub(r'[^\\s\\wáàảãạăắằẳẵặâấầẩẫậéèẻẽẹêếềểễệóòỏõọôốồổỗộơớờởỡợíìỉĩịúùủũụưứừửữựýỳỷỹỵđ_]',' ',document)\n",
        "    # xóa khoảng trắng thừa\n",
        "    document = re.sub(r'\\s+', ' ', document).strip()\n",
        "    # teencode\n",
        "    listtext = document.split()\n",
        "    for x in range(0,len(listtext)):\n",
        "      for y in teencode:\n",
        "        if(listtext[x]==y): listtext[x]=teencode[y]\n",
        "    document = ' '.join(listtext)\n",
        "    return document\n",
        "\n",
        "def search_dict(word):\n",
        "  first = 0\n",
        "  last = len(dict_VN)-1\n",
        "  while(first <= last):\n",
        "    mid = int ((first + last)/2)\n",
        "#    print('word: ' + word +'    first: '+ dict_VN[first] +'    mid: '+ dict_VN[mid] +'    last: '+ dict_VN[last])\n",
        "    if(dict_VN[mid]==word): \n",
        "      return True\n",
        "    else: \n",
        "      if(first == last): \n",
        "        return False\n",
        "    if(dict_VN[mid] < word): \n",
        "      first = mid+1\n",
        "    else: \n",
        "      last = mid-1\n",
        "\n",
        "def is_sentence_VN(sentence):\n",
        "  sentence = ViTokenizer.tokenize(sentence)\n",
        "  listwords = sentence.split(' ')\n",
        "  for x in listwords:\n",
        "    if (not x.isdigit()):\n",
        "      if( not search_dict(x.replace('_',' ')) ):\n",
        "        return False\n",
        "  return True"
      ],
      "metadata": {
        "id": "dnhaeNOsFsSX"
      },
      "execution_count": null,
      "outputs": []
    },
    {
      "cell_type": "code",
      "source": [
        "text_1 = []\n",
        "text_2 = []\n",
        "text_3 = []\n",
        "text_4 = []\n",
        "text_5 = []\n",
        "\n",
        "for x in range(0,len(text)):\n",
        "  tmp = text_preprocess(text[x])\n",
        "  if(label[x]==1):\n",
        "    text_1.append(tmp)\n",
        "  elif(label[x]==2):\n",
        "    text_2.append(tmp)\n",
        "  elif(label[x]==3):\n",
        "    text_3.append(tmp)  \n",
        "  elif(label[x]==4):\n",
        "    text_4.append(tmp)  \n",
        "  elif(label[x]==5):\n",
        "    text_5.append(tmp)"
      ],
      "metadata": {
        "id": "h3jrEl19sUXB"
      },
      "execution_count": null,
      "outputs": []
    },
    {
      "cell_type": "code",
      "source": [
        "import random\n",
        "tmp_5 = []\n",
        "\n",
        "for x in text_5:\n",
        "  if(is_sentence_VN(x)):\n",
        "    tmp_5.append(x)\n",
        "  else:\n",
        "    if(random.randint(0,1)==0):\n",
        "      tmp_5.append(x)"
      ],
      "metadata": {
        "id": "RF9BjiwKH0mV"
      },
      "execution_count": null,
      "outputs": []
    },
    {
      "cell_type": "code",
      "source": [
        "print('Phân bố dữ liệu: ')\n",
        "print('1 sao: ',len(text_1))\n",
        "print('2 sao: ',len(text_2))\n",
        "print('3 sao: ',len(text_3))\n",
        "print('4 sao: ',len(text_4))\n",
        "print('5 sao: ',len(tmp_5))\n",
        "x=np.array([1,2,3,4,5])\n",
        "y=np.array([len(text_1),len(text_2),len(text_3),len(text_4),len(tmp_5)])\n",
        "plt.bar(x,y)\n",
        "plt.show()"
      ],
      "metadata": {
        "colab": {
          "base_uri": "https://localhost:8080/",
          "height": 369
        },
        "id": "Ttzf12ufIWfr",
        "outputId": "c4739ba5-19fb-4108-d6ee-00c45791668c"
      },
      "execution_count": null,
      "outputs": [
        {
          "output_type": "stream",
          "name": "stdout",
          "text": [
            "Phân bố dữ liệu: \n",
            "1 sao:  28295\n",
            "2 sao:  14731\n",
            "3 sao:  27463\n",
            "4 sao:  56920\n",
            "5 sao:  127250\n"
          ]
        },
        {
          "output_type": "display_data",
          "data": {
            "text/plain": [
              "<Figure size 432x288 with 1 Axes>"
            ],
            "image/png": "[encoded data removed]"
          },
          "metadata": {
            "needs_background": "light"
          }
        }
      ]
    },
    {
      "cell_type": "code",
      "source": [
        "import csv\n",
        "\n",
        "with open('train_ok.csv', 'w') as f:\n",
        "    writer = csv.writer(f)\n",
        "    for x in text_1:\n",
        "      writer.writerow([1,x])\n",
        "    for x in text_2:\n",
        "      writer.writerow([2,x])\n",
        "    for x in text_3:\n",
        "      writer.writerow([3,x])\n",
        "    for x in text_4:\n",
        "      writer.writerow([4,x])\n",
        "    for x in tmp_5:\n",
        "      writer.writerow([5,x])"
      ],
      "metadata": {
        "id": "Ei6dreNE2tzB"
      },
      "execution_count": null,
      "outputs": []
    },
    {
      "cell_type": "code",
      "source": [
        "datafile = pd.read_csv('/content/train_ok.csv',header=None)\n",
        "\n",
        "data = pd.DataFrame({'label':datafile[0], 'text':datafile[1]})\n",
        "data = data.dropna()\n",
        "data = data.reset_index(drop=True)\n",
        "\n",
        "print('Số lượng: ',len(data))\n",
        "\n",
        "text = data['text'].values\n",
        "label = data['label'].values\n",
        "\n",
        "size_label = {1:0, 2:0, 3:0, 4:0, 5:0}\n",
        "\n",
        "for x in range(0, len(label)):\n",
        "  size_label[label[x]] +=1\n",
        "\n",
        "print('Phân bố dữ liệu: ',size_label,'\\n')\n",
        "\n",
        "x=np.array([1,2,3,4,5])\n",
        "y=np.array([size_label[1],size_label[2],size_label[3],size_label[4],size_label[5]])\n",
        "plt.bar(x,y)\n",
        "plt.show()"
      ],
      "metadata": {
        "colab": {
          "base_uri": "https://localhost:8080/",
          "height": 317
        },
        "id": "W_91DAJPX4cM",
        "outputId": "38962b06-22ff-44ea-8a39-e7f06ae1ea61"
      },
      "execution_count": null,
      "outputs": [
        {
          "output_type": "stream",
          "name": "stdout",
          "text": [
            "Số lượng:  254572\n",
            "Phân bố dữ liệu:  {1: 28294, 2: 14730, 3: 27454, 4: 56900, 5: 127194} \n",
            "\n"
          ]
        },
        {
          "output_type": "display_data",
          "data": {
            "text/plain": [
              "<Figure size 432x288 with 1 Axes>"
            ],
            "image/png": "[encoded data removed]"
          },
          "metadata": {
            "needs_background": "light"
          }
        }
      ]
    }
  ]
}